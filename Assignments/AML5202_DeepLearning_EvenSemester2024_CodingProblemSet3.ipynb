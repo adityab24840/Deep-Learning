{
 "cells": [
  {
   "cell_type": "code",
   "execution_count": 49,
   "metadata": {},
   "outputs": [
    {
     "data": {
      "text/plain": [
       "'2.12.1'"
      ]
     },
     "execution_count": 49,
     "metadata": {},
     "output_type": "execute_result"
    }
   ],
   "source": [
    "## Load libraries\n",
    "import pandas as pd\n",
    "import numpy as np\n",
    "import sys\n",
    "import matplotlib.pyplot as plt\n",
    "import matplotlib.cm as cm\n",
    "from keras.datasets import mnist\n",
    "plt.style.use('dark_background')\n",
    "%matplotlib inline\n",
    "np.set_printoptions(precision=2)\n",
    "import tensorflow as tf\n",
    "tf.__version__"
   ]
  },
  {
   "cell_type": "code",
   "execution_count": 50,
   "metadata": {},
   "outputs": [],
   "source": [
    "## Load MNIST data\n",
    "(X_train, y_train), (X_test, y_test) = mnist.load_data()\n",
    "X_train = X_train.transpose(1, 2, 0)\n",
    "X_test = X_test.transpose(1, 2, 0)\n",
    "X_train = X_train.reshape(X_train.shape[0]*X_train.shape[1], X_train.shape[2])\n",
    "X_test = X_test.reshape(X_test.shape[0]*X_test.shape[1], X_test.shape[2])\n",
    "num_labels = len(np.unique(y_train))\n",
    "num_features = X_train.shape[0]\n",
    "num_samples = X_train.shape[1]"
   ]
  },
  {
   "cell_type": "code",
   "execution_count": 51,
   "metadata": {},
   "outputs": [],
   "source": [
    "# One-hot encode class labels\n",
    "Y_train = tf.keras.utils.to_categorical(y_train).T\n",
    "Y_test = tf.keras.utils.to_categorical(y_test).T"
   ]
  },
  {
   "cell_type": "code",
   "execution_count": 52,
   "metadata": {},
   "outputs": [],
   "source": [
    "# Normalize the samples (images)\n",
    "xmax = np.amax(X_train)\n",
    "xmin = np.amin(X_train)\n",
    "X_train = (X_train - xmin) / (xmax - xmin) # all train features turn into a number between 0 and 1\n",
    "X_test = (X_test - xmin)/(xmax - xmin)"
   ]
  },
  {
   "cell_type": "code",
   "execution_count": 53,
   "metadata": {},
   "outputs": [
    {
     "name": "stdout",
     "output_type": "stream",
     "text": [
      "MNIST set\n",
      "---------------------\n",
      "Number of training samples = 60000\n",
      "Number of features = 784\n",
      "Number of output labels = 10\n"
     ]
    }
   ],
   "source": [
    "print('MNIST set')\n",
    "print('---------------------')\n",
    "print('Number of training samples = %d'%(num_samples))\n",
    "print('Number of features = %d'%(num_features))\n",
    "print('Number of output labels = %d'%(num_labels))"
   ]
  },
  {
   "cell_type": "markdown",
   "metadata": {},
   "source": [
    "A generic layer class with forward and backward methods"
   ]
  },
  {
   "cell_type": "code",
   "execution_count": 54,
   "metadata": {},
   "outputs": [],
   "source": [
    "class Layer:\n",
    "    def __init__(self):\n",
    "        self.input = None\n",
    "        self.output = None\n",
    "    \n",
    "    def forward(self, input):\n",
    "        pass\n",
    "    \n",
    "    def backward(self, output_gradient, learning_rate):\n",
    "        pass\n"
   ]
  },
  {
   "cell_type": "markdown",
   "metadata": {},
   "source": [
    "CCE loss and its gradient"
   ]
  },
  {
   "cell_type": "code",
   "execution_count": 55,
   "metadata": {},
   "outputs": [],
   "source": [
    "def cce_gradient(Y, Yhat):\n",
    "    return (-Y/Yhat)\n"
   ]
  },
  {
   "cell_type": "markdown",
   "metadata": {},
   "source": [
    "Generic activation layer class"
   ]
  },
  {
   "cell_type": "code",
   "execution_count": 56,
   "metadata": {},
   "outputs": [],
   "source": [
    "class Activation(Layer):\n",
    "    def __init__(self, activation, activation_gradient):\n",
    "        self.activation = activation\n",
    "        self.activation_gradient = activation_gradient\n",
    "    \n",
    "    def forward(self, input):\n",
    "        self.input = input\n",
    "        self.output = self.activation(self.input)\n",
    "        return self.output\n",
    "\n",
    "    def backward(self, output_gradient, learning_rate=None):\n",
    "        return output_gradient * self.activation_gradient(self.input)\n"
   ]
  },
  {
   "cell_type": "markdown",
   "metadata": {},
   "source": [
    "Specific activation layer classes"
   ]
  },
  {
   "cell_type": "code",
   "execution_count": 57,
   "metadata": {},
   "outputs": [],
   "source": [
    "class Sigmoid(Activation):\n",
    "    def __init__(self):\n",
    "        def sigmoid(z):\n",
    "            return 1 / (1 + np.exp(-z))\n",
    "        def sigmoid_gradient(z):\n",
    "            a = sigmoid(z)\n",
    "            return a * (1 - a)\n",
    "        super().__init__(sigmoid, sigmoid_gradient)\n",
    "\n",
    "class Tanh(Activation):\n",
    "    def __init__(self):\n",
    "        def tanh(z):\n",
    "            return np.tanh(z)\n",
    "        def tanh_gradient(z):\n",
    "            return 1 - np.tanh(z) ** 2\n",
    "        super().__init__(tanh, tanh_gradient)\n",
    "\n",
    "class ReLU(Activation):\n",
    "    def __init__(self):\n",
    "        def relu(z):\n",
    "            return np.maximum(0, z)\n",
    "        def relu_gradient(z):\n",
    "            return 1. * (z > 0)\n",
    "        super().__init__(relu, relu_gradient)\n"
   ]
  },
  {
   "cell_type": "markdown",
   "metadata": {},
   "source": [
    "Softmax activation layer class"
   ]
  },
  {
   "cell_type": "code",
   "execution_count": 58,
   "metadata": {},
   "outputs": [],
   "source": [
    "## Softmax activation layer class\n",
    "class Softmax(Layer):\n",
    "    def forward(self, input):\n",
    "        self.output = tf.nn.softmax(input, axis=0).numpy()\n",
    "    \n",
    "    def backward(self, output_gradient):\n",
    "        softmax_gradient = np.empty((self.output.shape[0], output_gradient.shape[1]), dtype=np.float64)\n",
    "        for b in range(softmax_gradient.shape[1]):\n",
    "            softmax_gradient[:, b] = np.dot((np.identity(self.output.shape[0])) - np.atleast_2d(self.output[:, b]), np.atleast_2d(self.output[:, b]))\n",
    "        # Return gradient w.r.t. input for backward propagation\n",
    "        return softmax_gradient\n"
   ]
  },
  {
   "cell_type": "markdown",
   "metadata": {},
   "source": [
    "Dense layer class"
   ]
  },
  {
   "cell_type": "code",
   "execution_count": 59,
   "metadata": {},
   "outputs": [],
   "source": [
    "## Dense layer class\n",
    "class Dense(Layer):\n",
    "    def __init__(self, input_size, output_size):\n",
    "        self.weights = 0.01*np.random.randn(output_size, input_size+1) # bias trick\n",
    "        self.weights[:, -1] = 0.01 # set all bias values to the same nonzero constant\n",
    "    \n",
    "    def forward(self, input):\n",
    "        self.input = np.vstack([input, np.ones((1, input.shape[1]))]) # bias trick\n",
    "        self.output= np.dot(self.weights, self.input)\n",
    "    \n",
    "    def backward(self, output_gradient, learning_rate):\n",
    "        ## Following is the inefficient way of calculating the gradient w.r.t. weights\n",
    "        weights_gradient = np.zeros((self.output.shape[0], self.input.shape[0]), dtype = np.float64)\n",
    "        for b in range(output_gradient.shape[1]):\n",
    "            weights_gradient += np.dot(output_gradient[:, b].reshape(-1, 1), self.input[:, b].reshape(-1, 1).T)\n",
    "        weights_gradient = (1/output_gradient.shape[1])*weights_gradient\n",
    "        # Following is the efficient way of calculating the weightsgradient\n",
    "        weights_gradient = (1/output_gradient.shape[1])*np.dot(np.atleast_2d(output_gradient), np.atleast_2d(self.input).T)\n",
    "        # Gradient w.r.t. the input\n",
    "        input_gradient = np.dot(self.weights.T, output_gradient)\n",
    "        # Update weights using gradient descent step\n",
    "        self.weights = self.weights + learning_rate * (-weights_gradient)\n",
    "        # Return gradient w.r.t. input for backward propagation\n",
    "        return input_gradient\n"
   ]
  },
  {
   "cell_type": "markdown",
   "metadata": {},
   "source": [
    "Function to generate sample indices for batch processing according to batch size"
   ]
  },
  {
   "cell_type": "code",
   "execution_count": 60,
   "metadata": {},
   "outputs": [],
   "source": [
    "## Function to generate sample indices for batch processing according to batch size\n",
    "def generate_batch_indices(num_samples, batch_size):\n",
    "    # Reorder sample indices\n",
    "    reordered_sample_indices = np.random.choice(num_samples, num_samples, replace = False)\n",
    "    # Generate batch indices for batch processing\n",
    "    batch_indices = np.split(reordered_sample_indices, np.arange(batch_size, len(reordered_sample_indices), batch_size))\n",
    "    return(batch_indices)"
   ]
  },
  {
   "cell_type": "markdown",
   "metadata": {},
   "source": [
    "Train the 1-hidden layer neural network (128 nodes) using batch training with batch size = 100"
   ]
  },
  {
   "cell_type": "code",
   "execution_count": 80,
   "metadata": {},
   "outputs": [
    {
     "ename": "SyntaxError",
     "evalue": "invalid syntax (700805528.py, line 45)",
     "output_type": "error",
     "traceback": [
      "\u001b[1;36m  Cell \u001b[1;32mIn[80], line 45\u001b[1;36m\u001b[0m\n\u001b[1;33m    softmax.forward(?) # Softmax activate\u001b[0m\n\u001b[1;37m                    ^\u001b[0m\n\u001b[1;31mSyntaxError\u001b[0m\u001b[1;31m:\u001b[0m invalid syntax\n"
     ]
    }
   ],
   "source": [
    "## Train the 1-hidden layer neural network (128 nodes)\n",
    "## using batch training with batch size = 100\n",
    "learning_rate = 1e-3 # learning rate\n",
    "batch_size = 100 # batch size\n",
    "nepochs = 200 # number of epochs\n",
    "loss_epoch = np.empty(nepochs, dtype = np.float64) # create empty array to store losses over each epoch\n",
    "# Neural network architecture\n",
    "dlayer1 = Dense(num_features, 128) # define dense layer 1\n",
    "alayer1 = ReLU() # ReLU activation layer 1\n",
    "dlayer2 = Dense(128, num_labels) # define dense layer 2\n",
    "softmax = Softmax() # define softmax activation layer\n",
    "# Steps: run over each sample in the batch, calculate loss, gradient of loss,\n",
    "# and update weights.\n",
    "epoch = 0\n",
    "while epoch < nepochs:\n",
    "    batch_indices = generate_batch_indices(num_samples, batch_size)\n",
    "    loss = 0\n",
    "    for b in range(len(batch_indices)):\n",
    "        dlayer1.forward(X_train[:, batch_indices[b]]) # forward prop dense layer 1 with batch feature added\n",
    "        alayer1.forward(dlayer1.output) # forward prop activation layer 1\n",
    "        dlayer2.forward(alayer1.output) # forward prop dense layer 2\n",
    "        softmax.forward(dlayer2.output) # Softmax activate\n",
    "        loss += cce(Y_train[:, batch_indices[b]], softmax.output) # calculate loss\n",
    "        # Backward prop starts here\n",
    "        grad = cce_gradient(Y_train[:, batch_indices[b]], softmax.output)\n",
    "        grad = softmax.backward(grad)\n",
    "        grad = dlayer2.backward(grad, learning_rate)\n",
    "        grad = alayer1.backward(grad)\n",
    "        grad = dlayer1.backward(grad, learning_rate)\n",
    "    softmax.forward(softmax.output) # Softmax activate\n",
    "    loss += cce(Y_train[:, batch_indices[b]], softmax.output) # calculate loss\n",
    "    # Backward prop starts here\n",
    "    grad = cce_gradient(Y_train[:, batch_indices[b]], softmax.output)\n",
    "    grad = softmax.backward(grad)\n",
    "    grad = dlayer2.backward(grad, learning_rate)\n",
    "    grad = alayer1.backward(grad)\n",
    "    grad = dlayer1.backward(grad, learning_rate)\n",
    "    loss_epoch[epoch] = loss/len(batch_indices)\n",
    "    print('Epoch %d: loss = %f'%(epoch+1, loss_epoch[epoch]))\n",
    "    epoch = epoch + 1\n",
    "    if softmax.output is not None:\n",
    "        grad = cce_gradient(Y_train[:, batch_indices[b]], softmax.output.T)\n",
    "    else:\n",
    "        grad = None\n",
    "softmax.forward(?) # Softmax activate\n",
    "loss += cce(Y_train[:, batch_indices[b]], softmax.output) # calculate loss\n",
    "# Backward prop starts here\n",
    "grad = cce_gradient(Y_train[:, batch_indices[b]], softmax.output)\n",
    "grad = softmax.backward(?)\n",
    "grad = dlayer2.backward(? learning_rate)\n",
    "grad = alayer1.backward(?)\n",
    "grad = dlayer1.backward(?, learning_rate)\n",
    "loss_epoch[epoch] = loss/len(batch_indices)\n",
    "print('Epoch %d: loss = %f'%(epoch+1, loss_epoch[epoch]))\n",
    "epoch = epoch + 1\n",
    "if softmax.output is not None:\n",
    "    grad = cce_gradient(Y_train[:, batch_indices[b]], softmax.output.T)\n",
    "else:\n",
    "    grad = None\n"
   ]
  },
  {
   "cell_type": "code",
   "execution_count": 77,
   "metadata": {},
   "outputs": [
    {
     "data": {
      "image/png": "[encoded data removed]",
      "text/plain": [
       "<Figure size 640x480 with 1 Axes>"
      ]
     },
     "metadata": {},
     "output_type": "display_data"
    }
   ],
   "source": [
    "# Plot training loss as a function of epoch:\n",
    "plt.plot(loss_epoch)\n",
    "plt.xlabel('Epoch')\n",
    "plt.ylabel('Loss value')\n",
    "plt.show()"
   ]
  }
 ],
 "metadata": {
  "kernelspec": {
   "display_name": "base",
   "language": "python",
   "name": "python3"
  },
  "language_info": {
   "codemirror_mode": {
    "name": "ipython",
    "version": 3
   },
   "file_extension": ".py",
   "mimetype": "text/x-python",
   "name": "python",
   "nbconvert_exporter": "python",
   "pygments_lexer": "ipython3",
   "version": "3.11.3"
  }
 },
 "nbformat": 4,
 "nbformat_minor": 2
}
