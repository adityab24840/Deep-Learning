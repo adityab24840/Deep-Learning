{
  "cells": [
    {
      "cell_type": "markdown",
      "id": "CrW3wGfQN2KV",
      "metadata": {
        "id": "CrW3wGfQN2KV"
      },
      "source": [
        "---\n",
        "\n",
        "**Load essential libraries**\n",
        "\n",
        "---"
      ]
    },
    {
      "cell_type": "code",
      "execution_count": 1,
      "id": "valued-lodging",
      "metadata": {
        "id": "valued-lodging"
      },
      "outputs": [
        {
          "name": "stdout",
          "output_type": "stream",
          "text": [
            "2.12.1\n"
          ]
        }
      ],
      "source": [
        "import numpy as np\n",
        "import sys\n",
        "import random\n",
        "import matplotlib.pyplot as plt\n",
        "plt.style.use('dark_background')\n",
        "%matplotlib inline\n",
        "\n",
        "import tensorflow as tf\n",
        "print(tf.__version__)\n",
        "\n",
        "from tensorflow.keras.models import Sequential, Model\n",
        "from tensorflow.keras.layers import Input, Dense, Flatten\n",
        "from tensorflow.keras import backend as K"
      ]
    },
    {
      "cell_type": "markdown",
      "id": "C_OSGWVfxTxy",
      "metadata": {
        "id": "C_OSGWVfxTxy"
      },
      "source": [
        "---\n",
        "\n",
        "Mount Google Drive if running on Colab\n",
        "\n",
        "---"
      ]
    },
    {
      "cell_type": "code",
      "execution_count": 3,
      "id": "VrK5cqGXxXLN",
      "metadata": {
        "id": "VrK5cqGXxXLN"
      },
      "outputs": [],
      "source": [
        "## Mount Google drive folder if running in Colab\n",
        "if('google.colab' in sys.modules):\n",
        "    from google.colab import drive\n",
        "    drive.mount('/content/drive', force_remount = True)\n",
        "    # Change path below starting from /content/drive/MyDrive/Colab Notebooks/\n",
        "    # depending on how data is organized inside your Colab Notebooks folder in\n",
        "    # Google Drive\n",
        "    DIR = '/content/drive/MyDrive/Colab Notebooks/MAHE/MSIS Coursework/EvenSem2024MAHE'\n",
        "    DATA_DIR = DIR+'/Data/'\n",
        "else:\n",
        "    DATA_DIR = 'Data/'"
      ]
    },
    {
      "cell_type": "markdown",
      "id": "8jG5ivrRX1O-",
      "metadata": {
        "id": "8jG5ivrRX1O-"
      },
      "source": [
        "---\n",
        "\n",
        "Load MNIST Data\n",
        "\n",
        "---"
      ]
    },
    {
      "cell_type": "code",
      "execution_count": 4,
      "id": "qs1J2W_qX0xw",
      "metadata": {
        "id": "qs1J2W_qX0xw"
      },
      "outputs": [
        {
          "name": "stdout",
          "output_type": "stream",
          "text": [
            "MNIST set\n",
            "---------------------\n",
            "Number of training samples = 60000\n",
            "Number of features = 784\n",
            "Number of output labels = 10\n"
          ]
        }
      ],
      "source": [
        "## Load MNIST data\n",
        "(X_train, y_train), (X_test, y_test) = tf.keras.datasets.mnist.load_data()\n",
        "X_train = X_train.reshape(X_train.shape[0], X_train.shape[1]*X_train.shape[2])\n",
        "X_test = X_test.reshape(X_test.shape[0], X_test.shape[1]*X_test.shape[2])\n",
        "\n",
        "num_labels = len(np.unique(y_train))\n",
        "num_features = X_train.shape[1]\n",
        "num_samples = X_train.shape[0]\n",
        "\n",
        "# One-hot encode class labels\n",
        "Y_train = tf.keras.utils.to_categorical(y_train)\n",
        "Y_test = tf.keras.utils.to_categorical(y_test)\n",
        "\n",
        "# Normalize the samples (images) using the training data\n",
        "xmax = np.amax(X_train)\n",
        "xmin = np.amin(X_train)\n",
        "X_train = (X_train - xmin) / (xmax - xmin) # all train features turn into a number between 0 and 1\n",
        "X_test = (X_test - xmin)/(xmax - xmin)\n",
        "\n",
        "print('MNIST set')\n",
        "print('---------------------')\n",
        "print('Number of training samples = %d'%(num_samples))\n",
        "print('Number of features = %d'%(num_features))\n",
        "print('Number of output labels = %d'%(num_labels))"
      ]
    },
    {
      "cell_type": "markdown",
      "id": "bir5GciL4X6U",
      "metadata": {
        "id": "bir5GciL4X6U"
      },
      "source": [
        "---\n",
        "\n",
        "Hyperparameters for the model\n",
        "\n",
        "---"
      ]
    },
    {
      "cell_type": "code",
      "execution_count": 6,
      "id": "umisXgSj4a08",
      "metadata": {
        "id": "umisXgSj4a08"
      },
      "outputs": [],
      "source": [
        "## Hyperparameters for the model\n",
        "batch_size = 256\n",
        "max_epochs = 50\n",
        "learning_rate = 1e-03\n",
        "reg_strength = 0.1"
      ]
    },
    {
      "cell_type": "markdown",
      "id": "kjk0YnbgGsr8",
      "metadata": {
        "id": "kjk0YnbgGsr8"
      },
      "source": [
        "---\n",
        "\n",
        "We have looked at 2 different approaches to build custom models using TensorFlow 2:\n",
        "\n",
        "1. sequential API\n",
        "2. model subclassing ([Making new layers and models via subclassing](https://www.tensorflow.org/guide/keras/making_new_layers_and_models_via_subclassing))\n",
        "\n",
        "The 3rd, and the last approach is via the functional API.\n",
        "\n",
        "---"
      ]
    },
    {
      "cell_type": "markdown",
      "id": "F3SJL2TyyCX3",
      "metadata": {
        "id": "F3SJL2TyyCX3"
      },
      "source": [
        "---\n",
        "\n",
        "**Approach-1**: here we build the model using the sequential API of TensorFlow Keras, compile, and train it.\n",
        "\n",
        "---"
      ]
    },
    {
      "cell_type": "code",
      "execution_count": 7,
      "id": "GzCLlmGd2SSL",
      "metadata": {
        "id": "GzCLlmGd2SSL"
      },
      "outputs": [
        {
          "name": "stdout",
          "output_type": "stream",
          "text": [
            "Epoch 1/50\n",
            "235/235 [==============================] - 4s 11ms/step - loss: 4.5178 - acc: 0.7657 - val_loss: 1.9491 - val_acc: 0.8009\n",
            "Epoch 2/50\n",
            "235/235 [==============================] - 2s 9ms/step - loss: 1.9492 - acc: 0.7567 - val_loss: 1.9214 - val_acc: 0.7705\n",
            "Epoch 3/50\n",
            "235/235 [==============================] - 2s 9ms/step - loss: 1.9342 - acc: 0.7457 - val_loss: 1.9113 - val_acc: 0.7370\n",
            "Epoch 4/50\n",
            "235/235 [==============================] - 2s 9ms/step - loss: 1.9281 - acc: 0.7423 - val_loss: 1.9099 - val_acc: 0.7376\n",
            "Epoch 5/50\n",
            "235/235 [==============================] - 2s 9ms/step - loss: 1.9257 - acc: 0.7400 - val_loss: 1.9103 - val_acc: 0.7258\n",
            "Epoch 6/50\n",
            "235/235 [==============================] - 2s 9ms/step - loss: 1.9236 - acc: 0.7409 - val_loss: 1.9040 - val_acc: 0.7468\n",
            "Epoch 7/50\n",
            "235/235 [==============================] - 2s 9ms/step - loss: 1.9234 - acc: 0.7373 - val_loss: 1.9087 - val_acc: 0.7195\n",
            "Epoch 8/50\n",
            "235/235 [==============================] - 2s 9ms/step - loss: 1.9226 - acc: 0.7373 - val_loss: 1.9062 - val_acc: 0.7212\n",
            "Epoch 9/50\n",
            "235/235 [==============================] - 2s 9ms/step - loss: 1.9232 - acc: 0.7340 - val_loss: 1.9020 - val_acc: 0.7734\n",
            "Epoch 10/50\n",
            "235/235 [==============================] - 2s 9ms/step - loss: 1.9219 - acc: 0.7386 - val_loss: 1.9091 - val_acc: 0.7222\n",
            "Epoch 11/50\n",
            "235/235 [==============================] - 2s 10ms/step - loss: 1.9220 - acc: 0.7353 - val_loss: 1.9047 - val_acc: 0.7508\n",
            "Epoch 12/50\n",
            "235/235 [==============================] - 3s 12ms/step - loss: 1.9229 - acc: 0.7354 - val_loss: 1.9013 - val_acc: 0.7498\n",
            "Epoch 13/50\n",
            "235/235 [==============================] - 3s 13ms/step - loss: 1.9225 - acc: 0.7354 - val_loss: 1.9093 - val_acc: 0.7571\n",
            "Epoch 14/50\n",
            "235/235 [==============================] - 2s 10ms/step - loss: 1.9227 - acc: 0.7351 - val_loss: 1.9040 - val_acc: 0.7252\n",
            "Epoch 15/50\n",
            "235/235 [==============================] - 2s 10ms/step - loss: 1.9212 - acc: 0.7399 - val_loss: 1.9017 - val_acc: 0.7522\n",
            "Epoch 16/50\n",
            "235/235 [==============================] - 2s 11ms/step - loss: 1.9222 - acc: 0.7358 - val_loss: 1.9099 - val_acc: 0.7379\n",
            "Epoch 17/50\n",
            "235/235 [==============================] - 2s 11ms/step - loss: 1.9208 - acc: 0.7376 - val_loss: 1.9027 - val_acc: 0.7629\n",
            "Epoch 18/50\n",
            "235/235 [==============================] - 3s 11ms/step - loss: 1.9212 - acc: 0.7391 - val_loss: 1.9033 - val_acc: 0.7648\n",
            "Epoch 19/50\n",
            "235/235 [==============================] - 3s 11ms/step - loss: 1.9214 - acc: 0.7392 - val_loss: 1.9046 - val_acc: 0.7260\n",
            "Epoch 20/50\n",
            "235/235 [==============================] - 2s 9ms/step - loss: 1.9213 - acc: 0.7376 - val_loss: 1.9026 - val_acc: 0.7285\n",
            "Epoch 21/50\n",
            "235/235 [==============================] - 2s 10ms/step - loss: 1.9215 - acc: 0.7359 - val_loss: 1.9040 - val_acc: 0.7598\n",
            "Epoch 22/50\n",
            "235/235 [==============================] - 2s 10ms/step - loss: 1.9206 - acc: 0.7398 - val_loss: 1.8991 - val_acc: 0.7800\n",
            "Epoch 23/50\n",
            "235/235 [==============================] - 3s 11ms/step - loss: 1.9207 - acc: 0.7398 - val_loss: 1.9026 - val_acc: 0.7671\n",
            "Epoch 24/50\n",
            "235/235 [==============================] - 3s 11ms/step - loss: 1.9207 - acc: 0.7378 - val_loss: 1.8999 - val_acc: 0.7465\n",
            "Epoch 25/50\n",
            "235/235 [==============================] - 2s 10ms/step - loss: 1.9206 - acc: 0.7426 - val_loss: 1.9054 - val_acc: 0.7262\n",
            "Epoch 26/50\n",
            "235/235 [==============================] - 3s 11ms/step - loss: 1.9206 - acc: 0.7369 - val_loss: 1.9016 - val_acc: 0.7287\n",
            "Epoch 27/50\n",
            "235/235 [==============================] - 3s 11ms/step - loss: 1.9197 - acc: 0.7404 - val_loss: 1.9019 - val_acc: 0.7312\n",
            "Epoch 28/50\n",
            "235/235 [==============================] - 2s 10ms/step - loss: 1.9203 - acc: 0.7418 - val_loss: 1.9026 - val_acc: 0.7351\n",
            "Epoch 29/50\n",
            "235/235 [==============================] - 2s 11ms/step - loss: 1.9209 - acc: 0.7385 - val_loss: 1.9032 - val_acc: 0.7356\n",
            "Epoch 30/50\n",
            "235/235 [==============================] - 2s 10ms/step - loss: 1.9203 - acc: 0.7429 - val_loss: 1.9091 - val_acc: 0.7453\n",
            "Epoch 31/50\n",
            "235/235 [==============================] - 2s 10ms/step - loss: 1.9218 - acc: 0.7388 - val_loss: 1.9050 - val_acc: 0.7386\n",
            "Epoch 32/50\n",
            "235/235 [==============================] - 2s 10ms/step - loss: 1.9205 - acc: 0.7384 - val_loss: 1.9015 - val_acc: 0.7470\n",
            "Epoch 33/50\n",
            "235/235 [==============================] - 2s 10ms/step - loss: 1.9206 - acc: 0.7374 - val_loss: 1.9032 - val_acc: 0.7577\n",
            "Epoch 34/50\n",
            "235/235 [==============================] - 2s 10ms/step - loss: 1.9202 - acc: 0.7413 - val_loss: 1.9025 - val_acc: 0.7259\n",
            "Epoch 35/50\n",
            "235/235 [==============================] - 2s 10ms/step - loss: 1.9212 - acc: 0.7379 - val_loss: 1.9081 - val_acc: 0.7414\n",
            "Epoch 36/50\n",
            "235/235 [==============================] - 2s 10ms/step - loss: 1.9196 - acc: 0.7402 - val_loss: 1.8994 - val_acc: 0.7637\n",
            "Epoch 37/50\n",
            "235/235 [==============================] - 2s 10ms/step - loss: 1.9195 - acc: 0.7415 - val_loss: 1.9018 - val_acc: 0.7398\n",
            "Epoch 38/50\n",
            "235/235 [==============================] - 2s 10ms/step - loss: 1.9195 - acc: 0.7419 - val_loss: 1.8988 - val_acc: 0.7683\n",
            "Epoch 39/50\n",
            "235/235 [==============================] - 2s 10ms/step - loss: 1.9204 - acc: 0.7379 - val_loss: 1.8992 - val_acc: 0.7742\n",
            "Epoch 40/50\n",
            "235/235 [==============================] - 2s 10ms/step - loss: 1.9203 - acc: 0.7410 - val_loss: 1.9003 - val_acc: 0.7609\n",
            "Epoch 41/50\n",
            "235/235 [==============================] - 2s 10ms/step - loss: 1.9204 - acc: 0.7427 - val_loss: 1.9021 - val_acc: 0.7474\n",
            "Epoch 42/50\n",
            "235/235 [==============================] - 2s 10ms/step - loss: 1.9204 - acc: 0.7386 - val_loss: 1.9013 - val_acc: 0.7539\n",
            "Epoch 43/50\n",
            "235/235 [==============================] - 2s 10ms/step - loss: 1.9193 - acc: 0.7421 - val_loss: 1.9022 - val_acc: 0.7544\n",
            "Epoch 44/50\n",
            "235/235 [==============================] - 2s 10ms/step - loss: 1.9192 - acc: 0.7433 - val_loss: 1.9004 - val_acc: 0.7491\n",
            "Epoch 45/50\n",
            "235/235 [==============================] - 2s 10ms/step - loss: 1.9208 - acc: 0.7404 - val_loss: 1.9029 - val_acc: 0.7270\n",
            "Epoch 46/50\n",
            "235/235 [==============================] - 2s 10ms/step - loss: 1.9195 - acc: 0.7405 - val_loss: 1.9039 - val_acc: 0.7577\n",
            "Epoch 47/50\n",
            "235/235 [==============================] - 2s 10ms/step - loss: 1.9207 - acc: 0.7381 - val_loss: 1.9011 - val_acc: 0.7711\n",
            "Epoch 48/50\n",
            "235/235 [==============================] - 2s 10ms/step - loss: 1.9194 - acc: 0.7426 - val_loss: 1.9025 - val_acc: 0.7515\n",
            "Epoch 49/50\n",
            "235/235 [==============================] - 2s 10ms/step - loss: 1.9188 - acc: 0.7421 - val_loss: 1.9017 - val_acc: 0.7537\n",
            "Epoch 50/50\n",
            "235/235 [==============================] - 2s 10ms/step - loss: 1.9189 - acc: 0.7409 - val_loss: 1.9024 - val_acc: 0.7583\n"
          ]
        }
      ],
      "source": [
        "# Define model architecture (2 layers, 128 nodes in hidden layer)\n",
        "model = Sequential()\n",
        "model.add(Dense(128,\n",
        "                dtype = 'float64',\n",
        "                activation = tf.nn.leaky_relu,\n",
        "                kernel_regularizer = tf.keras.regularizers.l2(l2 = reg_strength)\n",
        "                ))\n",
        "model.add(Dense(num_labels,\n",
        "                dtype = 'float64',\n",
        "                activation = tf.keras.activations.softmax,\n",
        "                kernel_regularizer = tf.keras.regularizers.l2(l2 = reg_strength)\n",
        "                ))\n",
        "\n",
        "# Compile model\n",
        "opt = tf.keras.optimizers.Adam(learning_rate = learning_rate) # optimizer\n",
        "loss_fn = tf.keras.losses.CategoricalCrossentropy()  # loss function\n",
        "model.compile(optimizer = opt, loss = loss_fn, metrics = ['acc'])\n",
        "\n",
        "# Train model and simultaneously test on the test set\n",
        "history = model.fit(X_train, Y_train,\n",
        "                    batch_size = batch_size,\n",
        "                    epochs = max_epochs,\n",
        "                    validation_data = (X_test, Y_test))"
      ]
    },
    {
      "cell_type": "markdown",
      "id": "eugkmOeF5j0U",
      "metadata": {
        "id": "eugkmOeF5j0U"
      },
      "source": [
        "---\n",
        "\n",
        "Plot train and test loss vs. epoch and train and test accuracies vs. epoch\n",
        "\n",
        "---"
      ]
    },
    {
      "cell_type": "code",
      "execution_count": 8,
      "id": "VmW13XNY5nxV",
      "metadata": {
        "id": "VmW13XNY5nxV"
      },
      "outputs": [
        {
          "data": {
            "image/png": "[encoded data removed]",
            "text/plain": [
              "<Figure size 800x400 with 2 Axes>"
            ]
          },
          "metadata": {},
          "output_type": "display_data"
        }
      ],
      "source": [
        "# Plot train and test loss vs. epoch and\n",
        "# train and test accuracies vs. epoch:\n",
        "fig, ax = plt.subplots(1, 2, figsize = (8, 4))\n",
        "fig.tight_layout(pad = 4.0)\n",
        "ax[0].plot( history.history['loss'], 'b', label = 'Train')\n",
        "ax[0].plot( history.history['val_loss'], 'r', label = 'Test')\n",
        "ax[0].set_xlabel('Epoch', fontsize = 12)\n",
        "ax[0].set_ylabel('Loss value', fontsize = 12)\n",
        "ax[0].legend()\n",
        "ax[0].set_title(f'Loss vs. Epoch for reg. strength {reg_strength}', fontsize = 14);\n",
        "\n",
        "ax[1].plot( history.history['acc'], 'b', label = 'Train')\n",
        "ax[1].plot( history.history['val_acc'], 'r', label = 'Test')\n",
        "ax[1].set_xlabel('Epoch', fontsize = 12)\n",
        "ax[1].set_ylabel('Accuracy', fontsize = 12)\n",
        "ax[1].legend()\n",
        "ax[1].set_title('Accuracy vs. Epoch for reg. strength 0.1', fontsize = 14);"
      ]
    },
    {
      "cell_type": "markdown",
      "id": "X1MGY9oF8CHg",
      "metadata": {
        "id": "X1MGY9oF8CHg"
      },
      "source": [
        "---\n",
        "\n",
        "**Approach-2**: here we build the model by subclassing the TensorFlow Keras $\\texttt{Model}$ class followed by definition of of layers in $\\texttt{__init__}$ and implementation of the model's forward pass in $\\texttt{call()}$.\n",
        "\n",
        "---"
      ]
    },
    {
      "cell_type": "code",
      "execution_count": 9,
      "id": "qgeD1NmfRqkT",
      "metadata": {
        "id": "qgeD1NmfRqkT"
      },
      "outputs": [],
      "source": [
        "## Define 2-layer neural network architecture with 128 nodes in the hidden layer\n",
        "# Define model\n",
        "class Model(tf.keras.models.Model):\n",
        "    def __init__(self):\n",
        "        super(Model, self).__init__()\n",
        "        initializer = tf.keras.initializers.RandomUniform(minval=-0.5, maxval=0.5)\n",
        "        self.layer1 = tf.keras.layers.Dense(128,\n",
        "                                            dtype = 'float64',\n",
        "                                            bias_initializer = initializer,\n",
        "                                            activation = tf.nn.leaky_relu,\n",
        "                                            kernel_regularizer = tf.keras.regularizers.l2(l2 = reg_strength)\n",
        "                                            )\n",
        "        self.layer2 = tf.keras.layers.Dense(num_labels,\n",
        "                                            dtype = 'float64',\n",
        "                                            bias_initializer = initializer,\n",
        "                                            activation = tf.keras.activations.softmax,\n",
        "                                            kernel_regularizer = tf.keras.regularizers.l2(l2 = reg_strength)\n",
        "                                            )\n",
        "\n",
        "    # Forward pass for the model\n",
        "    def call(self, inputs):\n",
        "        a = self.layer1(inputs)\n",
        "        a = self.layer2(a)\n",
        "        return a"
      ]
    },
    {
      "cell_type": "markdown",
      "id": "EZyM0MekDtFI",
      "metadata": {
        "id": "EZyM0MekDtFI"
      },
      "source": [
        "---\n",
        "\n",
        "Compile and train the model.\n",
        "\n",
        "---"
      ]
    },
    {
      "cell_type": "code",
      "execution_count": 10,
      "id": "d3OcZ7XZT5HZ",
      "metadata": {
        "id": "d3OcZ7XZT5HZ"
      },
      "outputs": [
        {
          "name": "stdout",
          "output_type": "stream",
          "text": [
            "Epoch 1/50\n"
          ]
        },
        {
          "name": "stderr",
          "output_type": "stream",
          "text": [
            "c:\\Users\\adity\\anaconda3\\Lib\\site-packages\\keras\\initializers\\initializers.py:120: UserWarning: The initializer RandomUniform is unseeded and being called multiple times, which will return identical values each time (even if the initializer is unseeded). Please update your code to provide a seed to the initializer, or avoid using the same initalizer instance more than once.\n",
            "  warnings.warn(\n"
          ]
        },
        {
          "name": "stdout",
          "output_type": "stream",
          "text": [
            "600/600 [==============================] - 5s 6ms/step - loss: 3.0008 - acc: 0.7500 - val_loss: 1.9228 - val_acc: 0.7451\n",
            "Epoch 2/50\n",
            "600/600 [==============================] - 4s 6ms/step - loss: 1.9344 - acc: 0.7341 - val_loss: 1.9127 - val_acc: 0.7288\n",
            "Epoch 3/50\n",
            "600/600 [==============================] - 3s 6ms/step - loss: 1.9305 - acc: 0.7289 - val_loss: 1.9101 - val_acc: 0.7646\n",
            "Epoch 4/50\n",
            "600/600 [==============================] - 4s 6ms/step - loss: 1.9287 - acc: 0.7285 - val_loss: 1.9110 - val_acc: 0.7354\n",
            "Epoch 5/50\n",
            "600/600 [==============================] - 4s 7ms/step - loss: 1.9273 - acc: 0.7323 - val_loss: 1.9143 - val_acc: 0.7622\n",
            "Epoch 6/50\n",
            "600/600 [==============================] - 4s 7ms/step - loss: 1.9280 - acc: 0.7265 - val_loss: 1.9039 - val_acc: 0.7574\n",
            "Epoch 7/50\n",
            "600/600 [==============================] - 4s 6ms/step - loss: 1.9268 - acc: 0.7296 - val_loss: 1.9040 - val_acc: 0.7272\n",
            "Epoch 8/50\n",
            "600/600 [==============================] - 4s 6ms/step - loss: 1.9267 - acc: 0.7286 - val_loss: 1.9191 - val_acc: 0.7140\n",
            "Epoch 9/50\n",
            "600/600 [==============================] - 4s 6ms/step - loss: 1.9254 - acc: 0.7322 - val_loss: 1.9062 - val_acc: 0.7623\n",
            "Epoch 10/50\n",
            "600/600 [==============================] - 4s 7ms/step - loss: 1.9246 - acc: 0.7352 - val_loss: 1.9064 - val_acc: 0.7212\n",
            "Epoch 11/50\n",
            "600/600 [==============================] - 4s 7ms/step - loss: 1.9255 - acc: 0.7315 - val_loss: 1.9066 - val_acc: 0.7533\n",
            "Epoch 12/50\n",
            "600/600 [==============================] - 4s 7ms/step - loss: 1.9253 - acc: 0.7340 - val_loss: 1.9059 - val_acc: 0.7426\n",
            "Epoch 13/50\n",
            "600/600 [==============================] - 4s 7ms/step - loss: 1.9236 - acc: 0.7365 - val_loss: 1.9019 - val_acc: 0.7365\n",
            "Epoch 14/50\n",
            "600/600 [==============================] - 4s 7ms/step - loss: 1.9243 - acc: 0.7337 - val_loss: 1.9053 - val_acc: 0.7626\n",
            "Epoch 15/50\n",
            "600/600 [==============================] - 4s 7ms/step - loss: 1.9236 - acc: 0.7336 - val_loss: 1.9051 - val_acc: 0.7321\n",
            "Epoch 16/50\n",
            "600/600 [==============================] - 4s 6ms/step - loss: 1.9236 - acc: 0.7362 - val_loss: 1.9071 - val_acc: 0.7473\n",
            "Epoch 17/50\n",
            "600/600 [==============================] - 4s 7ms/step - loss: 1.9247 - acc: 0.7319 - val_loss: 1.9048 - val_acc: 0.7601\n",
            "Epoch 18/50\n",
            "600/600 [==============================] - 4s 7ms/step - loss: 1.9230 - acc: 0.7351 - val_loss: 1.9072 - val_acc: 0.7278\n",
            "Epoch 19/50\n",
            "600/600 [==============================] - 4s 6ms/step - loss: 1.9231 - acc: 0.7330 - val_loss: 1.9079 - val_acc: 0.7644\n",
            "Epoch 20/50\n",
            "600/600 [==============================] - 4s 6ms/step - loss: 1.9233 - acc: 0.7344 - val_loss: 1.9038 - val_acc: 0.7663\n",
            "Epoch 21/50\n",
            "600/600 [==============================] - 4s 7ms/step - loss: 1.9228 - acc: 0.7385 - val_loss: 1.9023 - val_acc: 0.7503\n",
            "Epoch 22/50\n",
            "600/600 [==============================] - 4s 7ms/step - loss: 1.9221 - acc: 0.7376 - val_loss: 1.9038 - val_acc: 0.7496\n",
            "Epoch 23/50\n",
            "600/600 [==============================] - 4s 7ms/step - loss: 1.9222 - acc: 0.7355 - val_loss: 1.9062 - val_acc: 0.7569\n",
            "Epoch 24/50\n",
            "600/600 [==============================] - 4s 7ms/step - loss: 1.9225 - acc: 0.7366 - val_loss: 1.9024 - val_acc: 0.7470\n",
            "Epoch 25/50\n",
            "600/600 [==============================] - 4s 6ms/step - loss: 1.9226 - acc: 0.7353 - val_loss: 1.9002 - val_acc: 0.7430\n",
            "Epoch 26/50\n",
            "600/600 [==============================] - 4s 6ms/step - loss: 1.9233 - acc: 0.7366 - val_loss: 1.9037 - val_acc: 0.7394\n",
            "Epoch 27/50\n",
            "600/600 [==============================] - 4s 6ms/step - loss: 1.9226 - acc: 0.7349 - val_loss: 1.9084 - val_acc: 0.7386\n",
            "Epoch 28/50\n",
            "600/600 [==============================] - 4s 6ms/step - loss: 1.9219 - acc: 0.7368 - val_loss: 1.9037 - val_acc: 0.7638\n",
            "Epoch 29/50\n",
            "600/600 [==============================] - 4s 6ms/step - loss: 1.9220 - acc: 0.7375 - val_loss: 1.9034 - val_acc: 0.7322\n",
            "Epoch 30/50\n",
            "600/600 [==============================] - 4s 6ms/step - loss: 1.9214 - acc: 0.7370 - val_loss: 1.9028 - val_acc: 0.7567\n",
            "Epoch 31/50\n",
            "600/600 [==============================] - 4s 6ms/step - loss: 1.9212 - acc: 0.7373 - val_loss: 1.9037 - val_acc: 0.7649\n",
            "Epoch 32/50\n",
            "600/600 [==============================] - 4s 6ms/step - loss: 1.9217 - acc: 0.7356 - val_loss: 1.9037 - val_acc: 0.7506\n",
            "Epoch 33/50\n",
            "600/600 [==============================] - 4s 7ms/step - loss: 1.9211 - acc: 0.7359 - val_loss: 1.9067 - val_acc: 0.7800\n",
            "Epoch 34/50\n",
            "600/600 [==============================] - 4s 7ms/step - loss: 1.9213 - acc: 0.7377 - val_loss: 1.9037 - val_acc: 0.7724\n",
            "Epoch 35/50\n",
            "600/600 [==============================] - 4s 7ms/step - loss: 1.9208 - acc: 0.7395 - val_loss: 1.9075 - val_acc: 0.7848\n",
            "Epoch 36/50\n",
            "600/600 [==============================] - 4s 6ms/step - loss: 1.9208 - acc: 0.7393 - val_loss: 1.9015 - val_acc: 0.7422\n",
            "Epoch 37/50\n",
            "600/600 [==============================] - 4s 6ms/step - loss: 1.9209 - acc: 0.7397 - val_loss: 1.9021 - val_acc: 0.7533\n",
            "Epoch 38/50\n",
            "600/600 [==============================] - 4s 6ms/step - loss: 1.9209 - acc: 0.7390 - val_loss: 1.9006 - val_acc: 0.7525\n",
            "Epoch 39/50\n",
            "600/600 [==============================] - 4s 6ms/step - loss: 1.9205 - acc: 0.7370 - val_loss: 1.9029 - val_acc: 0.7613\n",
            "Epoch 40/50\n",
            "600/600 [==============================] - 4s 6ms/step - loss: 1.9206 - acc: 0.7398 - val_loss: 1.9002 - val_acc: 0.7624\n",
            "Epoch 41/50\n",
            "600/600 [==============================] - 4s 6ms/step - loss: 1.9207 - acc: 0.7400 - val_loss: 1.9042 - val_acc: 0.7321\n",
            "Epoch 42/50\n",
            "600/600 [==============================] - 4s 6ms/step - loss: 1.9205 - acc: 0.7354 - val_loss: 1.9065 - val_acc: 0.7345\n",
            "Epoch 43/50\n",
            "600/600 [==============================] - 4s 6ms/step - loss: 1.9207 - acc: 0.7412 - val_loss: 1.9024 - val_acc: 0.7378\n",
            "Epoch 44/50\n",
            "600/600 [==============================] - 4s 6ms/step - loss: 1.9205 - acc: 0.7391 - val_loss: 1.8976 - val_acc: 0.7522\n",
            "Epoch 45/50\n",
            "600/600 [==============================] - 4s 6ms/step - loss: 1.9208 - acc: 0.7393 - val_loss: 1.9000 - val_acc: 0.7640\n",
            "Epoch 46/50\n",
            "600/600 [==============================] - 4s 6ms/step - loss: 1.9201 - acc: 0.7407 - val_loss: 1.9083 - val_acc: 0.7061\n",
            "Epoch 47/50\n",
            "600/600 [==============================] - 4s 6ms/step - loss: 1.9207 - acc: 0.7362 - val_loss: 1.9054 - val_acc: 0.7487\n",
            "Epoch 48/50\n",
            "600/600 [==============================] - 4s 6ms/step - loss: 1.9199 - acc: 0.7389 - val_loss: 1.9084 - val_acc: 0.7393\n",
            "Epoch 49/50\n",
            "600/600 [==============================] - 4s 6ms/step - loss: 1.9198 - acc: 0.7389 - val_loss: 1.9007 - val_acc: 0.7673\n",
            "Epoch 50/50\n",
            "600/600 [==============================] - 4s 6ms/step - loss: 1.9200 - acc: 0.7398 - val_loss: 1.9004 - val_acc: 0.7612\n"
          ]
        }
      ],
      "source": [
        "## Compile model\n",
        "model = Model()\n",
        "opt = tf.keras.optimizers.Adam(learning_rate = learning_rate) # optimizer\n",
        "loss_fn = tf.keras.losses.CategoricalCrossentropy()  # loss function\n",
        "model.compile(optimizer = opt, loss = loss_fn, metrics = ['acc'])\n",
        "\n",
        "# Train model and simultaneously test on the test set\n",
        "history = model.fit(X_train, Y_train,\n",
        "                    batch_size = 100,\n",
        "                    epochs = max_epochs,\n",
        "                    validation_data = (X_test, Y_test))"
      ]
    },
    {
      "cell_type": "markdown",
      "id": "k0H0scBfV3wH",
      "metadata": {
        "id": "k0H0scBfV3wH"
      },
      "source": [
        "---\n",
        "\n",
        "In **Approach-2** where we subclassed the Model class, we can also explicitly write down the optimization step using $\\texttt{GradientTape()}$ and train the model\n",
        "\n",
        "---"
      ]
    },
    {
      "cell_type": "code",
      "execution_count": 11,
      "id": "SW3BgQ3EW56s",
      "metadata": {
        "id": "SW3BgQ3EW56s"
      },
      "outputs": [],
      "source": [
        "## Convert numpy to tf.data.datasets\n",
        "train_dataset = tf.data.Dataset.from_tensor_slices((X_train, Y_train)).batch(batch_size)"
      ]
    },
    {
      "cell_type": "code",
      "execution_count": 12,
      "id": "_-PERnpFDMwT",
      "metadata": {
        "id": "_-PERnpFDMwT"
      },
      "outputs": [],
      "source": [
        "## Function to compute gradient of loss and update weights\n",
        "@tf.function\n",
        "def train(model, loss_fn, opt, input):\n",
        "  with tf.GradientTape() as g:\n",
        "    pred = model(input[0])\n",
        "    loss_batch = loss_fn(input[1], pred)\n",
        "  gradients = g.gradient(loss_batch, model.trainable_variables)\n",
        "  opt.apply_gradients(zip(gradients, model.trainable_variables))\n",
        "  return loss_batch"
      ]
    },
    {
      "cell_type": "code",
      "execution_count": 13,
      "id": "Ra341NtdTjTD",
      "metadata": {
        "id": "Ra341NtdTjTD"
      },
      "outputs": [
        {
          "name": "stdout",
          "output_type": "stream",
          "text": [
            "Epoch 1, loss = 0.47376400232315063\n",
            "Epoch 2, loss = 0.36169642210006714\n",
            "Epoch 3, loss = 0.3081967532634735\n",
            "Epoch 4, loss = 0.2730792164802551\n",
            "Epoch 5, loss = 0.24704031646251678\n",
            "Epoch 6, loss = 0.22646203637123108\n",
            "Epoch 7, loss = 0.20955626666545868\n",
            "Epoch 8, loss = 0.1953057497739792\n",
            "Epoch 9, loss = 0.18304382264614105\n",
            "Epoch 10, loss = 0.17233946919441223\n",
            "Epoch 11, loss = 0.16287991404533386\n",
            "Epoch 12, loss = 0.15444223582744598\n",
            "Epoch 13, loss = 0.14684973657131195\n",
            "Epoch 14, loss = 0.13997352123260498\n",
            "Epoch 15, loss = 0.13370302319526672\n",
            "Epoch 16, loss = 0.1279580444097519\n",
            "Epoch 17, loss = 0.12266694009304047\n",
            "Epoch 18, loss = 0.11777739971876144\n",
            "Epoch 19, loss = 0.11324241757392883\n",
            "Epoch 20, loss = 0.10901989042758942\n",
            "Epoch 21, loss = 0.10507941246032715\n",
            "Epoch 22, loss = 0.1013866439461708\n",
            "Epoch 23, loss = 0.09792371839284897\n",
            "Epoch 24, loss = 0.09466643631458282\n",
            "Epoch 25, loss = 0.09159804880619049\n",
            "Epoch 26, loss = 0.08870183676481247\n",
            "Epoch 27, loss = 0.08596698194742203\n",
            "Epoch 28, loss = 0.08338139206171036\n",
            "Epoch 29, loss = 0.08093371242284775\n",
            "Epoch 30, loss = 0.07861237972974777\n",
            "Epoch 31, loss = 0.07640901952981949\n",
            "Epoch 32, loss = 0.07431583851575851\n",
            "Epoch 33, loss = 0.07232320308685303\n",
            "Epoch 34, loss = 0.07042527943849564\n",
            "Epoch 35, loss = 0.06861612945795059\n",
            "Epoch 36, loss = 0.06688901782035828\n",
            "Epoch 37, loss = 0.06523998081684113\n",
            "Epoch 38, loss = 0.0636645182967186\n",
            "Epoch 39, loss = 0.06215960159897804\n",
            "Epoch 40, loss = 0.06072451174259186\n",
            "Epoch 41, loss = 0.05936218425631523\n",
            "Epoch 42, loss = 0.05808410793542862\n",
            "Epoch 43, loss = 0.05686021223664284\n",
            "Epoch 44, loss = 0.05565207824110985\n",
            "Epoch 45, loss = 0.054485153406858444\n",
            "Epoch 46, loss = 0.05336563289165497\n",
            "Epoch 47, loss = 0.052283648401498795\n",
            "Epoch 48, loss = 0.05124136060476303\n",
            "Epoch 49, loss = 0.050318364053964615\n",
            "Epoch 50, loss = 0.04944335296750069\n"
          ]
        }
      ],
      "source": [
        "# Create neural network model with 128 nodes in the hidden layer\n",
        "model = Model()\n",
        "opt = tf.keras.optimizers.Adam(learning_rate = learning_rate) # optimizer\n",
        "loss_fn = tf.keras.losses.CategoricalCrossentropy()  # loss function\n",
        "\n",
        "# Varible to store training loss per epoch\n",
        "loss_train_epoch = tf.keras.metrics.Mean()\n",
        "loss_train_epoch_plot = np.empty(max_epochs)\n",
        "\n",
        "# Iterate over epochs\n",
        "for epoch in range(max_epochs):\n",
        "  for step, train_batch_features in enumerate(train_dataset):\n",
        "    loss_batch = train(model, loss_fn, opt, train_batch_features)\n",
        "    # Append training loss\n",
        "    loss_train_epoch(loss_batch)\n",
        "  loss_train_epoch_plot[epoch] = loss_train_epoch.result().numpy()\n",
        "  print(f'Epoch {epoch+1}, loss = {loss_train_epoch_plot[epoch]}')"
      ]
    },
    {
      "cell_type": "markdown",
      "id": "Ljcm4VTm1j9f",
      "metadata": {
        "id": "Ljcm4VTm1j9f"
      },
      "source": [
        "---\n",
        "\n",
        "**Approach-3**: here we build the model using the functional API of TensorFlow.\n",
        "\n",
        "---"
      ]
    },
    {
      "cell_type": "code",
      "execution_count": null,
      "id": "MMVOs9Jk1noX",
      "metadata": {
        "id": "MMVOs9Jk1noX"
      },
      "outputs": [],
      "source": []
    },
    {
      "cell_type": "markdown",
      "id": "6vcy6qd1Jii8",
      "metadata": {
        "id": "6vcy6qd1Jii8"
      },
      "source": [
        "---\n",
        "\n",
        "Siamese neural network\n",
        "\n",
        "![](https://dsm01pap002files.storage.live.com/y4m4YOFCC_sbCAbXCq7NQU6A2WruYAWuAighVI6h0pyQ8cPKVLxXOsmoDld5x30YlDiYqN_8O92TvfkGAoj3mGOWI8a3zazkfvVjccQZdimepRQ6a3QTe7CjNtUgXDp5xGZgseO_ODki5iA1lgikBzCy0vg52LJwyvzfLsT7ZjxapEy9Ej2aYbN27m0fdesXHHA?width=415&height=372&cropmode=none)\n",
        "\n",
        "---"
      ]
    },
    {
      "cell_type": "code",
      "execution_count": 14,
      "id": "JU71MVBPJop5",
      "metadata": {
        "id": "JU71MVBPJop5"
      },
      "outputs": [
        {
          "name": "stdout",
          "output_type": "stream",
          "text": [
            "(60000, 28, 28)\n",
            "(10000, 28, 28)\n"
          ]
        }
      ],
      "source": [
        "## Load MNIST dataset without flattening (reshaping) the images\n",
        "(X_train, y_train), (X_test, y_test) = tf.keras.datasets.mnist.load_data()\n",
        "print(X_train.shape)\n",
        "print(X_test.shape)"
      ]
    },
    {
      "cell_type": "code",
      "execution_count": 15,
      "id": "JBLaLXowLC0V",
      "metadata": {
        "id": "JBLaLXowLC0V"
      },
      "outputs": [],
      "source": [
        "## Normalize the samples (images) using the training data\n",
        "xmax = np.amax(X_train)\n",
        "xmin = np.amin(X_train)\n",
        "X_train = (X_train - xmin) / (xmax - xmin) # all train features turn into a number between 0 and 1\n",
        "X_test = (X_test - xmin)/(xmax - xmin)"
      ]
    },
    {
      "cell_type": "markdown",
      "id": "ilG96fw1JxlF",
      "metadata": {
        "id": "ilG96fw1JxlF"
      },
      "source": [
        "\n",
        "\n",
        "---\n",
        "\n",
        "\n",
        "**Function to create pairs of images** (for function source, [click here](https://keras.io/examples/vision/siamese_contrastive/))\n",
        "\n",
        "We will train the model to differentiate between digits of different classes. For example, digit 0 needs to be differentiated from the rest of the digits (1 through 9), digit 1 - from 0 and 2 through 9, and so on. To carry this out, we will select N random images from class A (for example, for digit 0) and pair them with N random images from another class B (for example, for digit 1). Then, we can repeat this process for all classes of digits (until digit 9). Once we have paired digit 0 with other digits, we can repeat this process for the remaining classes for the rest of the digits (from 1 until 9).\n",
        "\n",
        "\n",
        "---\n",
        "\n"
      ]
    },
    {
      "cell_type": "code",
      "execution_count": 16,
      "id": "w83LL_YnJyvB",
      "metadata": {
        "id": "w83LL_YnJyvB"
      },
      "outputs": [],
      "source": [
        "def make_pairs(x, y):\n",
        "    \"\"\"Creates a tuple containing image pairs with corresponding label.\n",
        "\n",
        "    Arguments:\n",
        "        x: List containing images, each index in this list corresponds to one image.\n",
        "        y: List containing labels, each label with datatype of `int`.\n",
        "\n",
        "    Returns:\n",
        "        Tuple containing two numpy arrays as (pairs_of_samples, labels),\n",
        "        where pairs_of_samples' shape is (2len(x), 2,n_features_dims) and\n",
        "        labels are a binary array of shape (2len(x)).\n",
        "    \"\"\"\n",
        "\n",
        "    num_classes = max(y) + 1\n",
        "    digit_indices = [np.where(y == i)[0] for i in range(num_classes)]\n",
        "\n",
        "    pairs = []\n",
        "    labels = []\n",
        "\n",
        "    for idx1 in range(len(x)):\n",
        "        # add a matching example\n",
        "        x1 = x[idx1]\n",
        "        label1 = y[idx1]\n",
        "        idx2 = random.choice(digit_indices[label1])\n",
        "        x2 = x[idx2]\n",
        "\n",
        "        pairs += [[x1, x2]]\n",
        "        labels += [1]\n",
        "\n",
        "        # add a non-matching example\n",
        "        label2 = random.randint(0, num_classes - 1)\n",
        "        while label2 == label1:\n",
        "            label2 = random.randint(0, num_classes - 1)\n",
        "\n",
        "        idx2 = random.choice(digit_indices[label2])\n",
        "        x2 = x[idx2]\n",
        "\n",
        "        pairs += [[x1, x2]]\n",
        "        labels += [0]\n",
        "\n",
        "    return np.array(pairs), np.array(labels).astype(\"float32\")"
      ]
    },
    {
      "cell_type": "markdown",
      "id": "K0v2DXetLKvv",
      "metadata": {
        "id": "K0v2DXetLKvv"
      },
      "source": [
        "---\n",
        "\n",
        "Create train and test image pairs\n",
        "\n",
        "---"
      ]
    },
    {
      "cell_type": "code",
      "execution_count": 17,
      "id": "Pk0kJAy_K8sP",
      "metadata": {
        "id": "Pk0kJAy_K8sP"
      },
      "outputs": [],
      "source": [
        "# Make train pairs\n",
        "X_train_pairs, y_train_pairs = make_pairs(X_train, y_train)\n",
        "\n",
        "# Make test pairs\n",
        "X_test_pairs, y_test_pairs = make_pairs(X_test, y_test)"
      ]
    },
    {
      "cell_type": "markdown",
      "id": "wY2xxZPTKgsY",
      "metadata": {
        "id": "wY2xxZPTKgsY"
      },
      "source": [
        "\n",
        "\n",
        "---\n",
        "\n",
        "Function for visualizing the paired data (for function source, [click here](https://keras.io/examples/vision/siamese_contrastive/))\n",
        "\n",
        "\n",
        "---\n",
        "\n"
      ]
    },
    {
      "cell_type": "code",
      "execution_count": 18,
      "id": "WYnkRG4NKkNp",
      "metadata": {
        "id": "WYnkRG4NKkNp"
      },
      "outputs": [],
      "source": [
        "def visualize(pairs, labels, to_show=6, num_col=3, predictions=None, test=False):\n",
        "    \"\"\"Creates a plot of pairs and labels, and prediction if it's test dataset.\n",
        "\n",
        "    Arguments:\n",
        "        pairs: Numpy Array, of pairs to visualize, having shape\n",
        "               (Number of pairs, 2, 28, 28).\n",
        "        to_show: Int, number of examples to visualize (default is 6)\n",
        "                `to_show` must be an integral multiple of `num_col`.\n",
        "                 Otherwise it will be trimmed if it is greater than num_col,\n",
        "                 and incremented if if it is less then num_col.\n",
        "        num_col: Int, number of images in one row - (default is 3)\n",
        "                 For test and train respectively, it should not exceed 3 and 7.\n",
        "        predictions: Numpy Array of predictions with shape (to_show, 1) -\n",
        "                     (default is None)\n",
        "                     Must be passed when test=True.\n",
        "        test: Boolean telling whether the dataset being visualized is\n",
        "              train dataset or test dataset - (default False).\n",
        "\n",
        "    Returns:\n",
        "        None.\n",
        "    \"\"\"\n",
        "\n",
        "    # Define num_row\n",
        "    # If to_show % num_col != 0\n",
        "    #    trim to_show,\n",
        "    #       to trim to_show limit num_row to the point where\n",
        "    #       to_show % num_col == 0\n",
        "    #\n",
        "    # If to_show//num_col == 0\n",
        "    #    then it means num_col is greater then to_show\n",
        "    #    increment to_show\n",
        "    #       to increment to_show set num_row to 1\n",
        "    num_row = to_show // num_col if to_show // num_col != 0 else 1\n",
        "\n",
        "    # `to_show` must be an integral multiple of `num_col`\n",
        "    #  we found num_row and we have num_col\n",
        "    #  to increment or decrement to_show\n",
        "    #  to make it integral multiple of `num_col`\n",
        "    #  simply set it equal to num_row * num_col\n",
        "    to_show = num_row * num_col\n",
        "\n",
        "    # Plot the images\n",
        "    fig, axes = plt.subplots(num_row, num_col, figsize=(5, 5))\n",
        "    for i in range(to_show):\n",
        "\n",
        "        # If the number of rows is 1, the axes array is one-dimensional\n",
        "        if num_row == 1:\n",
        "            ax = axes[i % num_col]\n",
        "        else:\n",
        "            ax = axes[i // num_col, i % num_col]\n",
        "\n",
        "        ax.imshow(tf.concat([pairs[i][0], pairs[i][1]], axis=1), cmap=\"gray\")\n",
        "        ax.set_axis_off()\n",
        "        if test:\n",
        "            ax.set_title(\"True: {} | Pred: {:.5f}\".format(labels[i], predictions[i][0]))\n",
        "        else:\n",
        "            ax.set_title(\"Label: {}\".format(labels[i]))\n",
        "    if test:\n",
        "        plt.tight_layout(rect=(0, 0, 1.9, 1.9), w_pad=0.0)\n",
        "    else:\n",
        "        plt.tight_layout(rect=(0, 0, 1.5, 1.5))\n",
        "    plt.show()"
      ]
    },
    {
      "cell_type": "markdown",
      "id": "k0oMMQOzKn_p",
      "metadata": {
        "id": "k0oMMQOzKn_p"
      },
      "source": [
        "\n",
        "\n",
        "---\n",
        "\n",
        "\n",
        "Visualize some training samples. Note that the label is 1 if both pairs if images are the same digits and 0 otherwise.\n",
        "\n",
        "\n",
        "---\n",
        "\n"
      ]
    },
    {
      "cell_type": "code",
      "execution_count": 19,
      "id": "WuCFjLDCKoml",
      "metadata": {
        "id": "WuCFjLDCKoml"
      },
      "outputs": [
        {
          "data": {
            "image/png": "[encoded data removed]",
            "text/plain": [
              "<Figure size 500x500 with 4 Axes>"
            ]
          },
          "metadata": {},
          "output_type": "display_data"
        }
      ],
      "source": [
        "visualize(X_train_pairs[:-1], y_train_pairs[:-1], to_show = 4, num_col = 4)"
      ]
    }
  ],
  "metadata": {
    "colab": {
      "provenance": []
    },
    "kernelspec": {
      "display_name": "Python 3",
      "language": "python",
      "name": "python3"
    },
    "language_info": {
      "codemirror_mode": {
        "name": "ipython",
        "version": 3
      },
      "file_extension": ".py",
      "mimetype": "text/x-python",
      "name": "python",
      "nbconvert_exporter": "python",
      "pygments_lexer": "ipython3",
      "version": "3.11.3"
    }
  },
  "nbformat": 4,
  "nbformat_minor": 5
}
