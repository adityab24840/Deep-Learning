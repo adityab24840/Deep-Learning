{
  "cells": [
    {
      "cell_type": "markdown",
      "id": "CrW3wGfQN2KV",
      "metadata": {
        "id": "CrW3wGfQN2KV"
      },
      "source": [
        "---\n",
        "\n",
        "**Load essential libraries**\n",
        "\n",
        "---"
      ]
    },
    {
      "cell_type": "code",
      "execution_count": 19,
      "id": "valued-lodging",
      "metadata": {
        "id": "valued-lodging"
      },
      "outputs": [],
      "source": [
        "import numpy as np\n",
        "import matplotlib.pyplot as plt\n",
        "plt.style.use('dark_background')\n",
        "%matplotlib inline\n",
        "\n",
        "import tensorflow as tf"
      ]
    },
    {
      "cell_type": "markdown",
      "id": "CZmMj92lN6Yc",
      "metadata": {
        "id": "CZmMj92lN6Yc"
      },
      "source": [
        "---\n",
        "\n",
        "**Check TensorFlow version**\n",
        "\n",
        "---"
      ]
    },
    {
      "cell_type": "code",
      "execution_count": 20,
      "id": "B2VpALYvOBoG",
      "metadata": {
        "id": "B2VpALYvOBoG"
      },
      "outputs": [
        {
          "data": {
            "text/plain": [
              "'2.12.1'"
            ]
          },
          "execution_count": 20,
          "metadata": {},
          "output_type": "execute_result"
        }
      ],
      "source": [
        "tf.__version__"
      ]
    },
    {
      "cell_type": "markdown",
      "id": "8jG5ivrRX1O-",
      "metadata": {
        "id": "8jG5ivrRX1O-"
      },
      "source": [
        "---\n",
        "\n",
        "Load MNIST Data\n",
        "\n",
        "---"
      ]
    },
    {
      "cell_type": "code",
      "execution_count": 21,
      "id": "qs1J2W_qX0xw",
      "metadata": {
        "id": "qs1J2W_qX0xw"
      },
      "outputs": [
        {
          "name": "stdout",
          "output_type": "stream",
          "text": [
            "MNIST set\n",
            "---------------------\n",
            "Number of training samples = 60000\n",
            "Number of features = 784\n",
            "Number of output labels = 10\n"
          ]
        }
      ],
      "source": [
        "## Load MNIST data\n",
        "(X_train, y_train), (X_test, y_test) = tf.keras.datasets.mnist.load_data()\n",
        "X_train = X_train.reshape(X_train.shape[0], X_train.shape[1]*X_train.shape[2])\n",
        "X_test = X_test.reshape(X_test.shape[0], X_test.shape[1]*X_test.shape[2])\n",
        "\n",
        "num_labels = len(np.unique(y_train))\n",
        "num_features = X_train.shape[1]\n",
        "num_samples = X_train.shape[0]\n",
        "\n",
        "# One-hot encode class labels\n",
        "Y_train = tf.keras.utils.to_categorical(y_train)\n",
        "Y_test = tf.keras.utils.to_categorical(y_test)\n",
        "\n",
        "# Normalize the samples (images)\n",
        "xmax = np.amax(X_train)\n",
        "xmin = np.amin(X_train)\n",
        "X_train = (X_train - xmin) / (xmax - xmin) # all train features turn into a number between 0 and 1\n",
        "X_test = (X_test - xmin)/(xmax - xmin)\n",
        "\n",
        "print('MNIST set')\n",
        "print('---------------------')\n",
        "print('Number of training samples = %d'%(num_samples))\n",
        "print('Number of features = %d'%(num_features))\n",
        "print('Number of output labels = %d'%(num_labels))"
      ]
    },
    {
      "cell_type": "markdown",
      "id": "kjk0YnbgGsr8",
      "metadata": {
        "id": "kjk0YnbgGsr8"
      },
      "source": [
        "---\n",
        "\n",
        "We will now look at 3 different ways to build custom models using TensorFlow 2:\n",
        "\n",
        "1. model subclassing ([Making new layers and models via subclassing](https://www.tensorflow.org/guide/keras/making_new_layers_and_models_via_subclassing))\n",
        "2. sequential API\n",
        "3. functional API\n",
        "\n",
        "---"
      ]
    },
    {
      "cell_type": "markdown",
      "id": "MRgFmy-mYgAS",
      "metadata": {
        "id": "MRgFmy-mYgAS"
      },
      "source": [
        "---\n",
        "\n",
        "**Approach-1**: here we build the model by subclassing the Keras $\\texttt{Model}$ class followed by definition of of layers in $\\texttt{__init__}$ and implementation of the model's forward pass in $\\texttt{call()}$.\n",
        "\n",
        "---"
      ]
    },
    {
      "cell_type": "code",
      "execution_count": 22,
      "id": "Z_u1srfaY1Tc",
      "metadata": {
        "id": "Z_u1srfaY1Tc"
      },
      "outputs": [],
      "source": [
        "## Define 1-layer (softmax) neural network architecture\n",
        "# Define model\n",
        "class Softmax_Model(tf.keras.models.Model):\n",
        "    def __init__(self):\n",
        "        super(Softmax_Model, self).__init__()\n",
        "        initializer = tf.keras.initializers.RandomUniform(minval=-0.5, maxval=0.5)\n",
        "        self.dense1 = tf.keras.layers.Dense(num_labels, dtype = 'float64',\\\n",
        "                                 bias_initializer = initializer,\\\n",
        "                                 activation = tf.keras.activations.softmax)\n",
        "\n",
        "    # Forward pass for the model\n",
        "    def call(self, inputs):\n",
        "        a = self.dense1(inputs)\n",
        "        return a"
      ]
    },
    {
      "cell_type": "code",
      "execution_count": 23,
      "id": "f0041158",
      "metadata": {},
      "outputs": [],
      "source": [
        "## Define 2-layer (softmax) neural network architecture\n",
        "# Define model\n",
        "\n",
        "class Softmax_Model(tf.keras.models.Model):\n",
        "    def __init__(self):\n",
        "        super(Softmax_Model, self).__init__()\n",
        "        initializer = tf.keras.initializers.RandomUniform(minval=-0.5, maxval=0.5)\n",
        "        self.dense1 = tf.keras.layers.Dense(num_labels, dtype='float64',\n",
        "                                                bias_initializer=initializer,\n",
        "                                                activation=tf.keras.layers.LeakyReLU(alpha=0.2))\n",
        "        \n",
        "        self.dense2 = tf.keras.layers.Dense(num_labels, dtype='float64',\n",
        "                                                bias_initializer=initializer,\n",
        "                                                activation=tf.keras.activations.softmax)\n",
        "\n",
        "    # Forward pass for the model\n",
        "    def call(self, inputs):\n",
        "        x = self.dense1(inputs)\n",
        "        return self.dense2(x)\n",
        "activation = tf.keras.activations.softmax\n"
      ]
    },
    {
      "cell_type": "markdown",
      "id": "EZyM0MekDtFI",
      "metadata": {
        "id": "EZyM0MekDtFI"
      },
      "source": [
        "---\n",
        "\n",
        "Build model\n",
        "\n",
        "---"
      ]
    },
    {
      "cell_type": "code",
      "execution_count": 24,
      "id": "qfPaz4la4xfe",
      "metadata": {
        "id": "qfPaz4la4xfe"
      },
      "outputs": [
        {
          "name": "stderr",
          "output_type": "stream",
          "text": [
            "c:\\Users\\adity\\anaconda3\\Lib\\site-packages\\keras\\initializers\\initializers.py:120: UserWarning: The initializer RandomUniform is unseeded and being called multiple times, which will return identical values each time (even if the initializer is unseeded). Please update your code to provide a seed to the initializer, or avoid using the same initalizer instance more than once.\n",
            "  warnings.warn(\n"
          ]
        }
      ],
      "source": [
        "## Build model\n",
        "model = Softmax_Model()\n",
        "batch_size = 100 # batch size\n",
        "model.build((batch_size, num_features))"
      ]
    },
    {
      "cell_type": "markdown",
      "id": "od-XJBv8DyiL",
      "metadata": {
        "id": "od-XJBv8DyiL"
      },
      "source": [
        "---\n",
        "\n",
        "Compile and train the model on the training batches and test on the test set in one shot\n",
        "\n",
        "---"
      ]
    },
    {
      "cell_type": "code",
      "execution_count": 25,
      "id": "eP63ueEF9Ist",
      "metadata": {
        "id": "eP63ueEF9Ist"
      },
      "outputs": [
        {
          "name": "stdout",
          "output_type": "stream",
          "text": [
            "Epoch 1/10\n"
          ]
        },
        {
          "name": "stdout",
          "output_type": "stream",
          "text": [
            "600/600 [==============================] - 1s 1ms/step - loss: 0.7032 - acc: 0.8033 - val_loss: 0.3430 - val_acc: 0.9058\n",
            "Epoch 2/10\n",
            "600/600 [==============================] - 1s 1ms/step - loss: 0.3232 - acc: 0.9094 - val_loss: 0.2859 - val_acc: 0.9186\n",
            "Epoch 3/10\n",
            "600/600 [==============================] - 1s 1ms/step - loss: 0.2854 - acc: 0.9188 - val_loss: 0.2707 - val_acc: 0.9216\n",
            "Epoch 4/10\n",
            "600/600 [==============================] - 1s 1ms/step - loss: 0.2672 - acc: 0.9239 - val_loss: 0.2576 - val_acc: 0.9273\n",
            "Epoch 5/10\n",
            "600/600 [==============================] - 1s 1ms/step - loss: 0.2548 - acc: 0.9277 - val_loss: 0.2526 - val_acc: 0.9293\n",
            "Epoch 6/10\n",
            "600/600 [==============================] - 1s 1ms/step - loss: 0.2469 - acc: 0.9300 - val_loss: 0.2468 - val_acc: 0.9289\n",
            "Epoch 7/10\n",
            "600/600 [==============================] - 1s 1ms/step - loss: 0.2399 - acc: 0.9324 - val_loss: 0.2461 - val_acc: 0.9285\n",
            "Epoch 8/10\n",
            "600/600 [==============================] - 1s 1ms/step - loss: 0.2350 - acc: 0.9331 - val_loss: 0.2427 - val_acc: 0.9306\n",
            "Epoch 9/10\n",
            "600/600 [==============================] - 1s 1ms/step - loss: 0.2297 - acc: 0.9355 - val_loss: 0.2425 - val_acc: 0.9308\n",
            "Epoch 10/10\n",
            "600/600 [==============================] - 1s 1ms/step - loss: 0.2255 - acc: 0.9360 - val_loss: 0.2408 - val_acc: 0.9310\n"
          ]
        },
        {
          "data": {
            "text/plain": [
              "<keras.callbacks.History at 0x1bd553908d0>"
            ]
          },
          "execution_count": 25,
          "metadata": {},
          "output_type": "execute_result"
        }
      ],
      "source": [
        "## Compile model\n",
        "opt = tf.keras.optimizers.Adam(learning_rate = 1e-03) # optimizer\n",
        "loss_fn = tf.keras.losses.CategoricalCrossentropy()  # loss function\n",
        "model.compile(optimizer = opt, loss = loss_fn, metrics = ['acc'])\n",
        "\n",
        "# Train model and simultabeously test on the test set\n",
        "model.fit(X_train, Y_train, batch_size = 100,\\\n",
        "          epochs = 10,\\\n",
        "          validation_data = (X_test, Y_test))"
      ]
    },
    {
      "cell_type": "markdown",
      "id": "k0H0scBfV3wH",
      "metadata": {
        "id": "k0H0scBfV3wH"
      },
      "source": [
        "---\n",
        "\n",
        "Instead of doing the above, we can explicitly write down the optimization step using $\\texttt{GradientTape()}$ and train the model\n",
        "\n",
        "---"
      ]
    },
    {
      "cell_type": "code",
      "execution_count": 26,
      "id": "SW3BgQ3EW56s",
      "metadata": {
        "id": "SW3BgQ3EW56s"
      },
      "outputs": [],
      "source": [
        "## Create source dataset from input data (this is helpful for ppipelining later)\n",
        "train_dataset = tf.data.Dataset.from_tensor_slices((X_train, Y_train))\n",
        "batch_size = 100 # batch size\n",
        "# Create training batches\n",
        "train_dataset = train_dataset.shuffle(buffer_size = 1024).batch(batch_size)"
      ]
    },
    {
      "cell_type": "code",
      "execution_count": 27,
      "id": "2eqel_RYgMR9",
      "metadata": {
        "id": "2eqel_RYgMR9"
      },
      "outputs": [
        {
          "name": "stdout",
          "output_type": "stream",
          "text": [
            "Epoch 1: train loss = 0.775305\n",
            "Epoch 2: train loss = 0.555789\n",
            "Epoch 3: train loss = 0.467661\n",
            "Epoch 4: train loss = 0.418704\n",
            "Epoch 5: train loss = 0.386968\n",
            "Epoch 6: train loss = 0.364287\n",
            "Epoch 7: train loss = 0.347079\n",
            "Epoch 8: train loss = 0.333447\n",
            "Epoch 9: train loss = 0.322344\n",
            "Epoch 10: train loss = 0.313078\n"
          ]
        }
      ],
      "source": [
        "# Create softmax model\n",
        "model = Softmax_Model()\n",
        "\n",
        "opt = tf.keras.optimizers.Adam(learning_rate = 1e-03) # optimizer\n",
        "loss_fn = tf.keras.losses.CategoricalCrossentropy()  # loss function\n",
        "\n",
        "# Varible to store training loss per epoch\n",
        "loss_train_epoch = tf.keras.metrics.Mean()\n",
        "\n",
        "# Iterate over epochs\n",
        "nepochs = 10\n",
        "for epoch in range(nepochs):\n",
        "  # Iterate over the batches of the dataset.\n",
        "  for step, train_batch in enumerate(train_dataset):\n",
        "    with tf.GradientTape() as g:\n",
        "      # Compute loss\n",
        "      yhat = model(train_batch[0])\n",
        "      loss = loss_fn(train_batch[1], yhat)\n",
        "\n",
        "    # Calculate gradients\n",
        "    grad = g.gradient(loss, model.trainable_weights)\n",
        "\n",
        "    # Update model\n",
        "    opt.apply_gradients(zip(grad, model.trainable_weights))\n",
        "\n",
        "    # Append training loss\n",
        "    loss_train_epoch(loss)\n",
        "  print('Epoch %d: train loss = %f'%(epoch+1, loss_train_epoch.result()))"
      ]
    },
    {
      "cell_type": "code",
      "execution_count": 28,
      "id": "0zoDASIQs8T4",
      "metadata": {
        "id": "0zoDASIQs8T4"
      },
      "outputs": [
        {
          "name": "stdout",
          "output_type": "stream",
          "text": [
            "\n",
            "Accuracy: 0.9311000108718872\n"
          ]
        }
      ],
      "source": [
        "# Compile model so it can be evaluated for test set\n",
        "model.compile(optimizer = opt, loss = loss_fn, metrics = ['acc'])\n",
        "print('\\nAccuracy:', model.evaluate(X_test, Y_test, verbose=0)[1])"
      ]
    },
    {
      "cell_type": "markdown",
      "id": "040kYit81aFc",
      "metadata": {
        "id": "040kYit81aFc"
      },
      "source": [
        "---\n",
        "\n",
        "**Approach-2**: here we build the model using the sequential API of TensorFlow Keras. Try this.\n",
        "\n",
        "---"
      ]
    },
    {
      "cell_type": "code",
      "execution_count": 29,
      "id": "Wmu_m6kl1jci",
      "metadata": {
        "id": "Wmu_m6kl1jci"
      },
      "outputs": [
        {
          "name": "stdout",
          "output_type": "stream",
          "text": [
            "Epoch 1/10\n",
            "600/600 [==============================] - 1s 2ms/step - loss: 0.3504 - accuracy: 0.9013 - val_loss: 0.1651 - val_accuracy: 0.9487\n",
            "Epoch 2/10\n",
            "600/600 [==============================] - 1s 2ms/step - loss: 0.1445 - accuracy: 0.9573 - val_loss: 0.1237 - val_accuracy: 0.9631\n",
            "Epoch 3/10\n",
            "600/600 [==============================] - 1s 2ms/step - loss: 0.1052 - accuracy: 0.9678 - val_loss: 0.1080 - val_accuracy: 0.9668\n",
            "Epoch 4/10\n",
            "600/600 [==============================] - 1s 2ms/step - loss: 0.0829 - accuracy: 0.9752 - val_loss: 0.0894 - val_accuracy: 0.9718\n",
            "Epoch 5/10\n",
            "600/600 [==============================] - 1s 2ms/step - loss: 0.0683 - accuracy: 0.9786 - val_loss: 0.0822 - val_accuracy: 0.9730\n",
            "Epoch 6/10\n",
            "600/600 [==============================] - 1s 1ms/step - loss: 0.0574 - accuracy: 0.9822 - val_loss: 0.0872 - val_accuracy: 0.9733\n",
            "Epoch 7/10\n",
            "600/600 [==============================] - 1s 1ms/step - loss: 0.0498 - accuracy: 0.9841 - val_loss: 0.0823 - val_accuracy: 0.9733\n",
            "Epoch 8/10\n",
            "600/600 [==============================] - 1s 1ms/step - loss: 0.0421 - accuracy: 0.9867 - val_loss: 0.0799 - val_accuracy: 0.9764\n",
            "Epoch 9/10\n",
            "600/600 [==============================] - 1s 1ms/step - loss: 0.0352 - accuracy: 0.9888 - val_loss: 0.0858 - val_accuracy: 0.9757\n",
            "Epoch 10/10\n",
            "600/600 [==============================] - 1s 1ms/step - loss: 0.0305 - accuracy: 0.9904 - val_loss: 0.0840 - val_accuracy: 0.9749\n"
          ]
        },
        {
          "data": {
            "image/png": "[encoded data removed]",
            "text/plain": [
              "<Figure size 640x480 with 1 Axes>"
            ]
          },
          "metadata": {},
          "output_type": "display_data"
        }
      ],
      "source": [
        "from tensorflow.keras.models import Sequential\n",
        "from tensorflow.keras.layers import Dense\n",
        "\n",
        "# Define the model\n",
        "model = Sequential()\n",
        "\n",
        "# Add layers to the model\n",
        "model.add(Dense(64, activation='relu', input_shape=(num_features,)))\n",
        "model.add(Dense(128, activation='relu'))  # Modify this line to have 128 nodes\n",
        "model.add(Dense(num_labels, activation='softmax'))\n",
        "\n",
        "# Compile the model\n",
        "model.compile(optimizer='adam', loss='categorical_crossentropy', metrics=['accuracy'])\n",
        "\n",
        "# Train the model\n",
        "history = model.fit(X_train, Y_train, epochs=10, batch_size=100, validation_data=(X_test, Y_test))\n"
      ]
    },
    {
      "cell_type": "markdown",
      "id": "Ljcm4VTm1j9f",
      "metadata": {
        "id": "Ljcm4VTm1j9f"
      },
      "source": [
        "---\n",
        "\n",
        "**Approach-3**: here we build the model using the functional API of TensorFlow Keras. Try this.\n",
        "\n",
        "---"
      ]
    },
    {
      "cell_type": "code",
      "execution_count": 30,
      "id": "MMVOs9Jk1noX",
      "metadata": {
        "id": "MMVOs9Jk1noX"
      },
      "outputs": [
        {
          "name": "stdout",
          "output_type": "stream",
          "text": [
            "Epoch 1/10\n",
            "600/600 [==============================] - 1s 2ms/step - loss: 0.3411 - accuracy: 0.9042 - val_loss: 0.1706 - val_accuracy: 0.9463\n",
            "Epoch 2/10\n",
            "600/600 [==============================] - 1s 1ms/step - loss: 0.1489 - accuracy: 0.9564 - val_loss: 0.1258 - val_accuracy: 0.9607\n",
            "Epoch 3/10\n",
            "600/600 [==============================] - 1s 1ms/step - loss: 0.1079 - accuracy: 0.9675 - val_loss: 0.1109 - val_accuracy: 0.9648\n",
            "Epoch 4/10\n",
            "600/600 [==============================] - 1s 2ms/step - loss: 0.0841 - accuracy: 0.9747 - val_loss: 0.0947 - val_accuracy: 0.9715\n",
            "Epoch 5/10\n",
            "600/600 [==============================] - 1s 1ms/step - loss: 0.0683 - accuracy: 0.9786 - val_loss: 0.0902 - val_accuracy: 0.9708\n",
            "Epoch 6/10\n",
            "600/600 [==============================] - 1s 1ms/step - loss: 0.0574 - accuracy: 0.9824 - val_loss: 0.0901 - val_accuracy: 0.9715\n",
            "Epoch 7/10\n",
            "600/600 [==============================] - 1s 2ms/step - loss: 0.0491 - accuracy: 0.9847 - val_loss: 0.0919 - val_accuracy: 0.9725\n",
            "Epoch 8/10\n",
            "600/600 [==============================] - 1s 2ms/step - loss: 0.0414 - accuracy: 0.9868 - val_loss: 0.0911 - val_accuracy: 0.9708\n",
            "Epoch 9/10\n",
            "600/600 [==============================] - 1s 2ms/step - loss: 0.0367 - accuracy: 0.9883 - val_loss: 0.0905 - val_accuracy: 0.9724\n",
            "Epoch 10/10\n",
            "600/600 [==============================] - 1s 1ms/step - loss: 0.0301 - accuracy: 0.9907 - val_loss: 0.0899 - val_accuracy: 0.9743\n"
          ]
        },
        {
          "data": {
            "image/png": "[encoded data removed]",
            "text/plain": [
              "<Figure size 640x480 with 1 Axes>"
            ]
          },
          "metadata": {},
          "output_type": "display_data"
        }
      ],
      "source": [
        "from tensorflow.keras.models import Model\n",
        "from tensorflow.keras.layers import Input, Dense\n",
        "\n",
        "# Define input layer\n",
        "inputs = Input(shape=(num_features,))\n",
        "\n",
        "# Define hidden layers\n",
        "x = Dense(64, activation='relu')(inputs)\n",
        "x = Dense(128, activation='relu')(x)\n",
        "\n",
        "# Define output layer\n",
        "outputs = Dense(num_labels, activation='softmax')(x)\n",
        "\n",
        "# Create the model\n",
        "model = Model(inputs=inputs, outputs=outputs)\n",
        "\n",
        "# Compile the model\n",
        "model.compile(optimizer='adam', loss='categorical_crossentropy', metrics=['accuracy'])\n",
        "\n",
        "# Train the model\n",
        "history = model.fit(X_train, Y_train, epochs=10, batch_size=100, validation_data=(X_test, Y_test))\n",
        "\n",
        "# Plot the training history\n",
        "plt.figure()\n",
        "plt.plot(history.history['accuracy'], label='train')\n",
        "plt.plot(history.history['val_accuracy'], label='test')\n",
        "plt.legend()\n",
        "plt.show()\n"
      ]
    }
  ],
  "metadata": {
    "colab": {
      "provenance": []
    },
    "kernelspec": {
      "display_name": "Python 3",
      "language": "python",
      "name": "python3"
    },
    "language_info": {
      "codemirror_mode": {
        "name": "ipython",
        "version": 3
      },
      "file_extension": ".py",
      "mimetype": "text/x-python",
      "name": "python",
      "nbconvert_exporter": "python",
      "pygments_lexer": "ipython3",
      "version": "3.11.3"
    }
  },
  "nbformat": 4,
  "nbformat_minor": 5
}
