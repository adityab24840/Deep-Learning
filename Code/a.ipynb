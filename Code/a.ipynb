{
 "cells": [
  {
   "cell_type": "code",
   "execution_count": null,
   "metadata": {},
   "outputs": [],
   "source": []
  },
  {
   "cell_type": "code",
   "execution_count": 1,
   "metadata": {},
   "outputs": [],
   "source": [
    "def getMinimumMoves(word):\n",
    "    moves = 0\n",
    "    while True:\n",
    "        found = False\n",
    "        for i in range(len(word)):\n",
    "            left = word.rfind(word[i], 0, i)\n",
    "            right = word.find(word[i], i + 1)\n",
    "            if left != -1 or right != -1:\n",
    "                word = word[:left] + word[left + 1:i] + word[i + 1:right] + word[right + 1:]\n",
    "                moves += 1\n",
    "                found = True\n",
    "                break\n",
    "        if not found:\n",
    "            break\n",
    "    return moves"
   ]
  },
  {
   "cell_type": "code",
   "execution_count": null,
   "metadata": {},
   "outputs": [],
   "source": [
    "def getMinimumMoves(word):\n",
    "    moves = 0\n",
    "    while True:\n",
    "        found = False\n",
    "        for i in range(len(word)):\n",
    "            left = word.rfind(word[i], 0, i)\n",
    "            right = word.find(word[i], i + 1)\n",
    "            if left != -1 and right != -1:  # Change here\n",
    "                word = word[:left] + word[left + 1:i] + word[i + 1:right] + word[right + 1:]\n",
    "                moves += 1\n",
    "                found = True\n",
    "                break\n",
    "        if not found:\n",
    "            break\n",
    "    return moves"
   ]
  },
  {
   "cell_type": "code",
   "execution_count": null,
   "metadata": {},
   "outputs": [],
   "source": [
    "def getMinimumMoves(word):\n",
    "    from collections import Counter\n",
    "\n",
    "    counter = Counter(word)\n",
    "    moves = 0\n",
    "\n",
    "    for char, count in counter.items():\n",
    "        if count > 1:\n",
    "            moves += count - 1\n",
    "\n",
    "    return moves"
   ]
  },
  {
   "cell_type": "code",
   "execution_count": null,
   "metadata": {},
   "outputs": [],
   "source": [
    "def findMinIncrease(threadSize):\n",
    "    n = len(threadSize)\n",
    "    threadSize = [0] + threadSize + [0]\n",
    "    total_increase = 0\n",
    "    for i in range(1, n+1):\n",
    "        if threadSize[i-1] < threadSize[i] > threadSize[i+1]:\n",
    "            continue\n",
    "        max_neighbour = max(threadSize[i-1], threadSize[i+1])\n",
    "        total_increase += max_neighbour - threadSize[i] + 1\n",
    "        threadSize[i] = max_neighbour + 1\n",
    "    return total_increase"
   ]
  },
  {
   "cell_type": "code",
   "execution_count": null,
   "metadata": {},
   "outputs": [],
   "source": [
    "threadSize = [3, 2, 1, 2, 3]\n",
    "def findMinIncrease(threadSize):\n",
    "    n = len(threadSize)\n",
    "    total_increase = 0\n",
    "    for i in range(1, n):\n",
    "        max_neighbour = max(threadSize[i-1], threadSize[i+1])\n",
    "        total_increase += max_neighbour - threadSize[i] + 1\n",
    "        threadSize[i] = max_neighbour + 1\n",
    "    return total_increase"
   ]
  },
  {
   "cell_type": "code",
   "execution_count": null,
   "metadata": {},
   "outputs": [],
   "source": [
    "def getMinimumMoves(word):\n",
    "    stack = []\n",
    "    for c in word:\n",
    "        if stack and stack[-1] == c:\n",
    "            stack.pop()\n",
    "        else:\n",
    "            stack.append(c)\n",
    "    return len(word) - len(stack)*2"
   ]
  },
  {
   "cell_type": "code",
   "execution_count": null,
   "metadata": {},
   "outputs": [],
   "source": [
    "def getMinimumMoves(word):\n",
    "    moves = 0\n",
    "    while True:\n",
    "        found = False\n",
    "        for i in range(len(word)):\n",
    "            left = word.rfind(word[i], 0, i)\n",
    "            right = word.find(word[i], i + 1)\n",
    "            if left != -1 or right != -1:  # Change here\n",
    "                word = word[:left] + word[left + 1:i] + word[i + 1:right] + word[right + 1:]\n",
    "                moves += 1\n",
    "                found = True\n",
    "                break\n",
    "        if not found:\n",
    "            break\n",
    "    return moves"
   ]
  },
  {
   "cell_type": "code",
   "execution_count": null,
   "metadata": {},
   "outputs": [],
   "source": [
    "def getMinimumMoves(word):\n",
    "    moves = 0\n",
    "    while True:\n",
    "        found = False\n",
    "        for i in range(len(word)):\n",
    "            left = word.rfind(word[i], 0, i)\n",
    "            right = word.find(word[i], i + 1)\n",
    "            if left != -1 or right != -1:\n",
    "                word = word[:left] + (word[left + 1:i] if left != -1 else '') + (word[i + 1:right] if right != -1 else word[i+1:])\n",
    "                moves += 1\n",
    "                found = True\n",
    "                break\n",
    "        if not found:\n",
    "            break\n",
    "    return moves"
   ]
  },
  {
   "cell_type": "code",
   "execution_count": null,
   "metadata": {},
   "outputs": [],
   "source": [
    "def getMinimumMoves(word):\n",
    "    stack = []\n",
    "    for c in word:\n",
    "        if stack and stack[-1] == c:\n",
    "            stack.pop()\n",
    "        else:\n",
    "            stack.append(c)\n",
    "    return len(word) - len(stack)"
   ]
  },
  {
   "cell_type": "code",
   "execution_count": null,
   "metadata": {},
   "outputs": [],
   "source": [
    "def getMinimumMoves(word):\n",
    "    stack = []\n",
    "    moves = 0\n",
    "    for c in word:\n",
    "        while stack and c <= stack[-1] and stack[-1] in word[word.index(c)+1:]:\n",
    "            stack.pop()\n",
    "            moves += 1\n",
    "        stack.append(c)\n",
    "    return moves"
   ]
  }
 ],
 "metadata": {
  "kernelspec": {
   "display_name": "base",
   "language": "python",
   "name": "python3"
  },
  "language_info": {
   "codemirror_mode": {
    "name": "ipython",
    "version": 3
   },
   "file_extension": ".py",
   "mimetype": "text/x-python",
   "name": "python",
   "nbconvert_exporter": "python",
   "pygments_lexer": "ipython3",
   "version": "3.11.3"
  }
 },
 "nbformat": 4,
 "nbformat_minor": 2
}
