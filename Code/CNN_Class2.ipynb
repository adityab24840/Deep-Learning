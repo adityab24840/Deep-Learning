{
  "nbformat": 4,
  "nbformat_minor": 0,
  "metadata": {
    "colab": {
      "provenance": []
    },
    "kernelspec": {
      "name": "python3",
      "display_name": "Python 3"
    },
    "language_info": {
      "name": "python"
    },
    "accelerator": "GPU",
    "gpuClass": "standard"
  },
  "cells": [
    {
      "cell_type": "code",
      "execution_count": null,
      "metadata": {
        "id": "g4sjfCpBmvxu"
      },
      "outputs": [],
      "source": [
        "from keras.models import Sequential\n",
        "from keras.layers import Conv2D\n",
        "from keras.layers import MaxPooling2D\n",
        "from keras.layers import Flatten\n",
        "from keras.layers import Dense\n",
        "from keras.layers import ZeroPadding2D\n",
        "from keras.layers import Dropout\n",
        "from keras.layers import BatchNormalization\n",
        "from keras.layers import Dropout\n",
        "from keras import regularizers\n",
        "import matplotlib.pyplot as plt\n",
        "import numpy as np\n",
        "from keras import backend as K\n",
        "from keras import optimizers\n",
        "from sklearn.metrics import classification_report, confusion_matrix"
      ]
    },
    {
      "cell_type": "code",
      "source": [
        "h=w=224\n",
        "input_shape = (h, w, 1 )\n",
        "batch_size =32\n",
        "\n",
        "#reg1 = 0.001\n",
        "#reg2 = 0.012\n",
        "\n",
        "\n"
      ],
      "metadata": {
        "id": "xu-fRNSmns6a"
      },
      "execution_count": null,
      "outputs": []
    },
    {
      "cell_type": "code",
      "source": [
        "model = Sequential()\n",
        "#Convolutional layers\n",
        "conv1 = Conv2D(96, kernel_size=(3, 3), strides=(1, 11), padding='same',activation='relu', input_shape=input_shape)\n",
        "model.add(conv1)\n",
        "#model.add(BatchNormalization())\n",
        "model.add(MaxPooling2D(pool_size=(2, 2), strides=(1, 1)))\n",
        "\n",
        "\n",
        "conv2 = Conv2D(256, kernel_size=(3, 3), strides=(1, 1), padding='same', activation='relu', input_shape=input_shape)\n",
        "model.add(conv2)\n",
        "model.add(MaxPooling2D(pool_size=(2, 2), strides=(1, 1)))\n",
        "\n",
        "\n",
        "Dropout(rate=0.2)\n",
        "\n",
        "#Step 3 - Flattening\n",
        "model.add(Flatten())\n",
        "\n",
        "#Step 4 - Full connection\n",
        "model.add(Dense(units = 256, activation = 'relu'))\n",
        "#Use of regularization\n",
        "#model.add(Dense(units = 500, kernel_regularizer=regularizers.l2(reg1), activation = 'relu'))\n",
        "model.add(Dense(units = 196, activation = 'relu'))\n",
        "\n",
        "# Binary classification\n",
        "model.add(Dense(units = 1, activation = 'sigmoid'))\n",
        "\n",
        "#multi class classification\n",
        "#model.add(Dense(units = 6, activation = 'softmax'))\n",
        "\n",
        "#Optimizers\n",
        "#opt = optimizers.Adagrad(lr=0.001, epsilon=None, decay=0.03)\n",
        "#opt = optimizers.RMSprop(lr=0.001, rho=0.9, epsilon=None, decay=0.0)\n",
        "#opt = optimizers.SGD(lr=0.001, decay=0.0, nesterov=True)\n",
        "#opt = optimizers.Adam(lr=0.0005, beta_1=0.9, beta_2=0.999, epsilon=None, decay=0.0, amsgrad=False)\n",
        "opt = 'adam'\n",
        "\n",
        "#Compiling the CNN\n",
        "model.compile(optimizer = opt, loss = 'binary_crossentropy', metrics = ['accuracy'])\n",
        "#model.compile(optimizer = opt, loss = 'categorical_crossentropy', metrics = ['accuracy'])\n",
        "model.summary()\n",
        "\n",
        "#rlrp = ReduceLROnPlateau(monitor='val_loss', factor=0.2, patience=4, min_delta=1E-7, verbose=1, callbacks=[rlrp])"
      ],
      "metadata": {
        "colab": {
          "base_uri": "https://localhost:8080/"
        },
        "id": "LgXppseYn8wf",
        "outputId": "90fdacf1-f55e-402c-9086-f3c8041f0063"
      },
      "execution_count": null,
      "outputs": [
        {
          "output_type": "stream",
          "name": "stdout",
          "text": [
            "Model: \"sequential_5\"\n",
            "_________________________________________________________________\n",
            " Layer (type)                Output Shape              Param #   \n",
            "=================================================================\n",
            " conv2d_11 (Conv2D)          (None, 224, 21, 96)       960       \n",
            "                                                                 \n",
            " max_pooling2d_10 (MaxPoolin  (None, 223, 20, 96)      0         \n",
            " g2D)                                                            \n",
            "                                                                 \n",
            " conv2d_12 (Conv2D)          (None, 223, 20, 256)      221440    \n",
            "                                                                 \n",
            " max_pooling2d_11 (MaxPoolin  (None, 222, 19, 256)     0         \n",
            " g2D)                                                            \n",
            "                                                                 \n",
            " flatten_5 (Flatten)         (None, 1079808)           0         \n",
            "                                                                 \n",
            " dense_15 (Dense)            (None, 256)               276431104 \n",
            "                                                                 \n",
            " dense_16 (Dense)            (None, 196)               50372     \n",
            "                                                                 \n",
            " dense_17 (Dense)            (None, 1)                 197       \n",
            "                                                                 \n",
            "=================================================================\n",
            "Total params: 276,704,073\n",
            "Trainable params: 276,704,073\n",
            "Non-trainable params: 0\n",
            "_________________________________________________________________\n"
          ]
        }
      ]
    },
    {
      "cell_type": "code",
      "source": [
        "from google.colab import drive\n",
        "drive.mount('/gdrive')"
      ],
      "metadata": {
        "colab": {
          "base_uri": "https://localhost:8080/"
        },
        "id": "3FwjBtdLqrf1",
        "outputId": "da109920-bfbf-4439-a384-f6bf8903b4cf"
      },
      "execution_count": null,
      "outputs": [
        {
          "output_type": "stream",
          "name": "stdout",
          "text": [
            "Mounted at /gdrive\n"
          ]
        }
      ]
    },
    {
      "cell_type": "code",
      "source": [
        "from keras.preprocessing.image import ImageDataGenerator\n",
        "\n",
        "\n",
        "train_datagen = ImageDataGenerator(rescale = 1./255,\n",
        "                                   shear_range = 0.2,\n",
        "                                   zoom_range = 0.2,\n",
        "                                   horizontal_flip = True)\n",
        "\n",
        "test_datagen = ImageDataGenerator(rescale = 1./255)\n",
        "\n",
        "training_set = train_datagen.flow_from_directory('/gdrive/MyDrive/resizedGray/combine012',\n",
        "                                                 target_size = (h, w),\n",
        "                                                 batch_size = 32,\n",
        "                                                 #shuffle = True,\n",
        "                                                 class_mode = 'binary')\n",
        "\n",
        "\n",
        "test_set = test_datagen.flow_from_directory('/gdrive/MyDrive/resizedGray/fold3',\n",
        "                                            target_size = (h, w ),\n",
        "                                            batch_size = 32,\n",
        "                                            #shuffle = True,\n",
        "                                            class_mode = 'binary')"
      ],
      "metadata": {
        "colab": {
          "base_uri": "https://localhost:8080/"
        },
        "id": "nXhz17RBpo3e",
        "outputId": "4809d604-08c2-4794-e56b-e82d2275bc9a"
      },
      "execution_count": null,
      "outputs": [
        {
          "output_type": "stream",
          "name": "stdout",
          "text": [
            "Found 1318 images belonging to 2 classes.\n",
            "Found 430 images belonging to 2 classes.\n"
          ]
        }
      ]
    },
    {
      "cell_type": "code",
      "source": [
        "history = model.fit_generator(training_set, steps_per_epoch=1318//batch_size, epochs = 5, validation_steps=430//batch_size, validation_data = test_set, verbose =1)"
      ],
      "metadata": {
        "colab": {
          "base_uri": "https://localhost:8080/"
        },
        "id": "sm_HrQV8sh1l",
        "outputId": "eed6166f-1e75-4f73-f076-35cd8bb3f53b"
      },
      "execution_count": null,
      "outputs": [
        {
          "output_type": "stream",
          "name": "stderr",
          "text": [
            "<ipython-input-28-af2d6e9e7a6a>:1: UserWarning: `Model.fit_generator` is deprecated and will be removed in a future version. Please use `Model.fit`, which supports generators.\n",
            "  history = model.fit_generator(training_set, steps_per_epoch=1318//batch_size, epochs = 5, validation_steps=430//batch_size, validation_data = test_set, verbose =1)\n"
          ]
        },
        {
          "output_type": "stream",
          "name": "stdout",
          "text": [
            "Epoch 1/5\n",
            "41/41 [==============================] - 19s 463ms/step - loss: 0.6016 - accuracy: 0.7007 - val_loss: 0.5695 - val_accuracy: 0.7163\n",
            "Epoch 2/5\n",
            "41/41 [==============================] - 21s 518ms/step - loss: 0.5695 - accuracy: 0.7091 - val_loss: 0.6047 - val_accuracy: 0.6971\n",
            "Epoch 3/5\n",
            "41/41 [==============================] - 19s 457ms/step - loss: 0.5590 - accuracy: 0.7147 - val_loss: 0.5420 - val_accuracy: 0.7163\n",
            "Epoch 4/5\n",
            "41/41 [==============================] - 23s 554ms/step - loss: 0.5350 - accuracy: 0.7327 - val_loss: 0.5876 - val_accuracy: 0.6899\n",
            "Epoch 5/5\n",
            "41/41 [==============================] - 21s 513ms/step - loss: 0.5203 - accuracy: 0.7345 - val_loss: 0.5600 - val_accuracy: 0.7043\n"
          ]
        }
      ]
    },
    {
      "cell_type": "code",
      "source": [
        "\n",
        "#Loss Curves\n",
        "plt.figure(figsize=[8,6])\n",
        "plt.plot(history.history['loss'],'r',linewidth=2.0)\n",
        "plt.plot(history.history['val_loss'],'b',linewidth=2.0)\n",
        "plt.legend(['Training loss', 'Validation Loss'],fontsize=18)\n",
        "plt.xlabel('Epochs ',fontsize=16)\n",
        "plt.ylabel('Loss',fontsize=16)\n",
        "plt.title('Loss Curves',fontsize=16)\n",
        "\n",
        "# Accuracy Curves\n",
        "plt.figure(figsize=[8,6])\n",
        "plt.plot(history.history['acc'],'r',linewidth=2.0)\n",
        "plt.plot(history.history['val_acc'],'b',linewidth=2.0)\n",
        "plt.legend(['Training Accuracy', 'Validation Accuracy'],fontsize=18)\n",
        "plt.xlabel('Epochs ',fontsize=16)\n",
        "plt.ylabel('Accuracy',fontsize=16)\n",
        "plt.title('Accuracy Curves',fontsize=16)\n",
        "\n",
        "#Confution Matrix and Classification Report\n",
        "validation_generator = test_set\n",
        "num_of_test_samples = 430\n",
        "Y_pred = model.predict_generator(validation_generator, num_of_test_samples // batch_size+1)\n",
        "y_pred = K.round(Y_pred)\n",
        "print('Confusion Matrix')\n",
        "print(confusion_matrix(validation_generator.classes, y_pred))\n",
        "print('Classification Report')\n",
        "target_names = ['A', 'N']\n",
        "print(classification_report(validation_generator.classes, Y_pred, target_names=target_names))\n"
      ],
      "metadata": {
        "colab": {
          "base_uri": "https://localhost:8080/",
          "height": 646
        },
        "id": "buiGjOtuqCpV",
        "outputId": "8ee911b1-4c0a-46d8-b02b-99f6a113ec27"
      },
      "execution_count": null,
      "outputs": [
        {
          "output_type": "error",
          "ename": "KeyError",
          "evalue": "ignored",
          "traceback": [
            "\u001b[0;31m---------------------------------------------------------------------------\u001b[0m",
            "\u001b[0;31mKeyError\u001b[0m                                  Traceback (most recent call last)",
            "\u001b[0;32m<ipython-input-29-90e9876a6637>\u001b[0m in \u001b[0;36m<module>\u001b[0;34m\u001b[0m\n\u001b[1;32m     10\u001b[0m \u001b[0;31m# Accuracy Curves\u001b[0m\u001b[0;34m\u001b[0m\u001b[0;34m\u001b[0m\u001b[0;34m\u001b[0m\u001b[0m\n\u001b[1;32m     11\u001b[0m \u001b[0mplt\u001b[0m\u001b[0;34m.\u001b[0m\u001b[0mfigure\u001b[0m\u001b[0;34m(\u001b[0m\u001b[0mfigsize\u001b[0m\u001b[0;34m=\u001b[0m\u001b[0;34m[\u001b[0m\u001b[0;36m8\u001b[0m\u001b[0;34m,\u001b[0m\u001b[0;36m6\u001b[0m\u001b[0;34m]\u001b[0m\u001b[0;34m)\u001b[0m\u001b[0;34m\u001b[0m\u001b[0;34m\u001b[0m\u001b[0m\n\u001b[0;32m---> 12\u001b[0;31m \u001b[0mplt\u001b[0m\u001b[0;34m.\u001b[0m\u001b[0mplot\u001b[0m\u001b[0;34m(\u001b[0m\u001b[0mhistory\u001b[0m\u001b[0;34m.\u001b[0m\u001b[0mhistory\u001b[0m\u001b[0;34m[\u001b[0m\u001b[0;34m'acc'\u001b[0m\u001b[0;34m]\u001b[0m\u001b[0;34m,\u001b[0m\u001b[0;34m'r'\u001b[0m\u001b[0;34m,\u001b[0m\u001b[0mlinewidth\u001b[0m\u001b[0;34m=\u001b[0m\u001b[0;36m2.0\u001b[0m\u001b[0;34m)\u001b[0m\u001b[0;34m\u001b[0m\u001b[0;34m\u001b[0m\u001b[0m\n\u001b[0m\u001b[1;32m     13\u001b[0m \u001b[0mplt\u001b[0m\u001b[0;34m.\u001b[0m\u001b[0mplot\u001b[0m\u001b[0;34m(\u001b[0m\u001b[0mhistory\u001b[0m\u001b[0;34m.\u001b[0m\u001b[0mhistory\u001b[0m\u001b[0;34m[\u001b[0m\u001b[0;34m'val_acc'\u001b[0m\u001b[0;34m]\u001b[0m\u001b[0;34m,\u001b[0m\u001b[0;34m'b'\u001b[0m\u001b[0;34m,\u001b[0m\u001b[0mlinewidth\u001b[0m\u001b[0;34m=\u001b[0m\u001b[0;36m2.0\u001b[0m\u001b[0;34m)\u001b[0m\u001b[0;34m\u001b[0m\u001b[0;34m\u001b[0m\u001b[0m\n\u001b[1;32m     14\u001b[0m \u001b[0mplt\u001b[0m\u001b[0;34m.\u001b[0m\u001b[0mlegend\u001b[0m\u001b[0;34m(\u001b[0m\u001b[0;34m[\u001b[0m\u001b[0;34m'Training Accuracy'\u001b[0m\u001b[0;34m,\u001b[0m \u001b[0;34m'Validation Accuracy'\u001b[0m\u001b[0;34m]\u001b[0m\u001b[0;34m,\u001b[0m\u001b[0mfontsize\u001b[0m\u001b[0;34m=\u001b[0m\u001b[0;36m18\u001b[0m\u001b[0;34m)\u001b[0m\u001b[0;34m\u001b[0m\u001b[0;34m\u001b[0m\u001b[0m\n",
            "\u001b[0;31mKeyError\u001b[0m: 'acc'"
          ]
        },
        {
          "output_type": "display_data",
          "data": {
            "text/plain": [
              "<Figure size 576x432 with 1 Axes>"
            ],
            "image/png": "[encoded data removed]"
          },
          "metadata": {
            "needs_background": "light"
          }
        },
        {
          "output_type": "display_data",
          "data": {
            "text/plain": [
              "<Figure size 576x432 with 0 Axes>"
            ]
          },
          "metadata": {}
        }
      ]
    },
    {
      "cell_type": "code",
      "source": [
        "from keras.models import load_model\n",
        "\n",
        "# Creates a HDF5 file 'my_model.h5'\n",
        "model.save('my_model.h5')"
      ],
      "metadata": {
        "id": "Ud6TjkZrqRc6"
      },
      "execution_count": null,
      "outputs": []
    }
  ]
}